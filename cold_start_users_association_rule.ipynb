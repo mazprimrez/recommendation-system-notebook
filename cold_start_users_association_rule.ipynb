{
 "cells": [
  {
   "cell_type": "markdown",
   "metadata": {},
   "source": [
    "# Handle Cold Start Users using Association Rules\n",
    "Cold-Start are those who have a limited or do not have any historical behaviors yet. Since this is a common problem that most of business will face, I will try to handle those users using association rules, apriori algorithm. With the apriori algorithm, we'll get the association between two products. This association, will be useful for new users to be recommended to a some products they might like.\n",
    "\n",
    "In this notebook, I use an IMDB dataset that consists of 25Mio reviews. Yes, apriori algorithm costs high in computing, so it will give OOM if you tried to feed those data to the algorithms. So I only use Comedy genre movie that has 13K movieIds, FYI Comedy is the third biggest genre in the dataset after drama(80%) and romance. Filtering only comedy movies, I got 2.6 Mio left to be processed.\n",
    "\n",
    "The processing consists of several steps.\n",
    "1. Split the data into train and test and create dummy cold start users for test dataset (you'll see what I mean).\n",
    "2. Feed the train dataset into the apriori algorithms\n",
    "3. The apriori algorithms will return A->B, match those result to the test dataset\n",
    "4. Evaluate with Recall metric"
   ]
  },
  {
   "cell_type": "code",
   "execution_count": 231,
   "metadata": {},
   "outputs": [],
   "source": [
    "import pandas as pd\n",
    "import numpy as np\n",
    "from mlxtend.frequent_patterns import association_rules\n",
    "import matplotlib.pyplot as plt\n",
    "from apyori import apriori\n",
    "import math"
   ]
  },
  {
   "cell_type": "code",
   "execution_count": 232,
   "metadata": {},
   "outputs": [],
   "source": [
    "ratings = pd.read_csv('/home/woi/project/cold-start users/archive/ratings.csv')\n",
    "ratings.loc[:, \"date\"] = pd.to_datetime(ratings.timestamp, unit='s')"
   ]
  },
  {
   "cell_type": "code",
   "execution_count": 233,
   "metadata": {},
   "outputs": [],
   "source": [
    "includeMvsId = np.load('../log/animationId.npy', allow_pickle=True)\n",
    "includeMvsId = [int(ele) for ele in includeMvsId]\n",
    "ratings = ratings[ratings['movieId'].isin(includeMvsId)]\n",
    "ratings = ratings[ratings.rating>=3]\n",
    "ratings['ones'] = 1"
   ]
  },
  {
   "cell_type": "markdown",
   "metadata": {},
   "source": [
    "## Split Train Test\n",
    "\n",
    "In this part we will split the data into test with 20% users and train with 80%"
   ]
  },
  {
   "cell_type": "code",
   "execution_count": 234,
   "metadata": {},
   "outputs": [],
   "source": [
    "usersInfo = ratings.groupby('userId')['movieId'].nunique().reset_index()\n",
    "test_users = np.random.choice(usersInfo[(usersInfo['movieId']>1) & (usersInfo['movieId']<30)]['userId'], size=int(len(usersInfo)*0.2))\n",
    "np.save(open('../log/test_users.npy', 'wb'), test_users)"
   ]
  },
  {
   "cell_type": "code",
   "execution_count": 235,
   "metadata": {},
   "outputs": [],
   "source": [
    "train = ratings[~ratings['userId'].isin(test_users)]\n",
    "test = ratings[ratings['userId'].isin(test_users)]"
   ]
  },
  {
   "cell_type": "code",
   "execution_count": 236,
   "metadata": {},
   "outputs": [],
   "source": [
    "new_test = test.sort_values('date').groupby('userId').agg(movie_list=('movieId',list)).reset_index()\n",
    "new_test['len'] = new_test['movie_list'].apply(len)\n",
    "\n",
    "\n",
    "# Forcing them to be cold-start users that only review 1 - 5 movies\n",
    "new_test['X'] = new_test['movie_list'].apply(lambda x: x[:math.ceil(len(x)*0.1)])\n",
    "new_test['y'] = new_test['movie_list'].apply(lambda x: x[math.ceil(len(x)*0.1):])"
   ]
  },
  {
   "cell_type": "code",
   "execution_count": 237,
   "metadata": {},
   "outputs": [
    {
     "data": {
      "text/html": [
       "<div>\n",
       "<style scoped>\n",
       "    .dataframe tbody tr th:only-of-type {\n",
       "        vertical-align: middle;\n",
       "    }\n",
       "\n",
       "    .dataframe tbody tr th {\n",
       "        vertical-align: top;\n",
       "    }\n",
       "\n",
       "    .dataframe thead th {\n",
       "        text-align: right;\n",
       "    }\n",
       "</style>\n",
       "<table border=\"1\" class=\"dataframe\">\n",
       "  <thead>\n",
       "    <tr style=\"text-align: right;\">\n",
       "      <th></th>\n",
       "      <th>userId</th>\n",
       "      <th>movie_list</th>\n",
       "      <th>len</th>\n",
       "      <th>X</th>\n",
       "      <th>y</th>\n",
       "    </tr>\n",
       "  </thead>\n",
       "  <tbody>\n",
       "    <tr>\n",
       "      <th>0</th>\n",
       "      <td>1</td>\n",
       "      <td>[858, 2959, 1968, 4226]</td>\n",
       "      <td>4</td>\n",
       "      <td>[858]</td>\n",
       "      <td>[2959, 1968, 4226]</td>\n",
       "    </tr>\n",
       "    <tr>\n",
       "      <th>1</th>\n",
       "      <td>10</td>\n",
       "      <td>[150, 344, 349, 165, 457]</td>\n",
       "      <td>5</td>\n",
       "      <td>[150]</td>\n",
       "      <td>[344, 349, 165, 457]</td>\n",
       "    </tr>\n",
       "    <tr>\n",
       "      <th>2</th>\n",
       "      <td>16</td>\n",
       "      <td>[2959, 44191, 4011, 1732, 2105, 2455, 316, 198...</td>\n",
       "      <td>13</td>\n",
       "      <td>[2959, 44191]</td>\n",
       "      <td>[4011, 1732, 2105, 2455, 316, 198, 480, 8985, ...</td>\n",
       "    </tr>\n",
       "    <tr>\n",
       "      <th>3</th>\n",
       "      <td>20</td>\n",
       "      <td>[936, 2959, 5618, 46578, 919, 8464, 1732, 4697...</td>\n",
       "      <td>27</td>\n",
       "      <td>[936, 2959, 5618]</td>\n",
       "      <td>[46578, 919, 8464, 1732, 46976, 480, 4728, 410...</td>\n",
       "    </tr>\n",
       "    <tr>\n",
       "      <th>4</th>\n",
       "      <td>22</td>\n",
       "      <td>[342, 457, 1610]</td>\n",
       "      <td>3</td>\n",
       "      <td>[342]</td>\n",
       "      <td>[457, 1610]</td>\n",
       "    </tr>\n",
       "    <tr>\n",
       "      <th>...</th>\n",
       "      <td>...</td>\n",
       "      <td>...</td>\n",
       "      <td>...</td>\n",
       "      <td>...</td>\n",
       "      <td>...</td>\n",
       "    </tr>\n",
       "    <tr>\n",
       "      <th>41046</th>\n",
       "      <td>270855</td>\n",
       "      <td>[858, 1968]</td>\n",
       "      <td>2</td>\n",
       "      <td>[858]</td>\n",
       "      <td>[1968]</td>\n",
       "    </tr>\n",
       "    <tr>\n",
       "      <th>41047</th>\n",
       "      <td>270879</td>\n",
       "      <td>[3082, 457, 150, 344, 165, 339, 1721, 4896, 30...</td>\n",
       "      <td>23</td>\n",
       "      <td>[3082, 457, 150]</td>\n",
       "      <td>[344, 165, 339, 1721, 4896, 3053, 2294, 480, 1...</td>\n",
       "    </tr>\n",
       "    <tr>\n",
       "      <th>41048</th>\n",
       "      <td>270880</td>\n",
       "      <td>[920, 1721]</td>\n",
       "      <td>2</td>\n",
       "      <td>[920]</td>\n",
       "      <td>[1721]</td>\n",
       "    </tr>\n",
       "    <tr>\n",
       "      <th>41049</th>\n",
       "      <td>270881</td>\n",
       "      <td>[306, 1968, 308]</td>\n",
       "      <td>3</td>\n",
       "      <td>[306]</td>\n",
       "      <td>[1968, 308]</td>\n",
       "    </tr>\n",
       "    <tr>\n",
       "      <th>41050</th>\n",
       "      <td>270893</td>\n",
       "      <td>[4226, 2617, 2122, 2107, 165, 2028, 4034, 4011...</td>\n",
       "      <td>19</td>\n",
       "      <td>[4226, 2617]</td>\n",
       "      <td>[2122, 2107, 165, 2028, 4034, 4011, 1732, 3034...</td>\n",
       "    </tr>\n",
       "  </tbody>\n",
       "</table>\n",
       "<p>41051 rows × 5 columns</p>\n",
       "</div>"
      ],
      "text/plain": [
       "       userId                                         movie_list  len  \\\n",
       "0           1                            [858, 2959, 1968, 4226]    4   \n",
       "1          10                          [150, 344, 349, 165, 457]    5   \n",
       "2          16  [2959, 44191, 4011, 1732, 2105, 2455, 316, 198...   13   \n",
       "3          20  [936, 2959, 5618, 46578, 919, 8464, 1732, 4697...   27   \n",
       "4          22                                   [342, 457, 1610]    3   \n",
       "...       ...                                                ...  ...   \n",
       "41046  270855                                        [858, 1968]    2   \n",
       "41047  270879  [3082, 457, 150, 344, 165, 339, 1721, 4896, 30...   23   \n",
       "41048  270880                                        [920, 1721]    2   \n",
       "41049  270881                                   [306, 1968, 308]    3   \n",
       "41050  270893  [4226, 2617, 2122, 2107, 165, 2028, 4034, 4011...   19   \n",
       "\n",
       "                       X                                                  y  \n",
       "0                  [858]                                 [2959, 1968, 4226]  \n",
       "1                  [150]                               [344, 349, 165, 457]  \n",
       "2          [2959, 44191]  [4011, 1732, 2105, 2455, 316, 198, 480, 8985, ...  \n",
       "3      [936, 2959, 5618]  [46578, 919, 8464, 1732, 46976, 480, 4728, 410...  \n",
       "4                  [342]                                        [457, 1610]  \n",
       "...                  ...                                                ...  \n",
       "41046              [858]                                             [1968]  \n",
       "41047   [3082, 457, 150]  [344, 165, 339, 1721, 4896, 3053, 2294, 480, 1...  \n",
       "41048              [920]                                             [1721]  \n",
       "41049              [306]                                        [1968, 308]  \n",
       "41050       [4226, 2617]  [2122, 2107, 165, 2028, 4034, 4011, 1732, 3034...  \n",
       "\n",
       "[41051 rows x 5 columns]"
      ]
     },
     "execution_count": 237,
     "metadata": {},
     "output_type": "execute_result"
    }
   ],
   "source": [
    "new_test"
   ]
  },
  {
   "cell_type": "markdown",
   "metadata": {},
   "source": [
    "## Feed the data to the apriori algorithm"
   ]
  },
  {
   "cell_type": "code",
   "execution_count": 238,
   "metadata": {},
   "outputs": [],
   "source": [
    "itemusers = train.groupby('userId').agg({'movieId':list}).reset_index()['movieId']"
   ]
  },
  {
   "cell_type": "code",
   "execution_count": 239,
   "metadata": {},
   "outputs": [],
   "source": [
    "association_rules = apriori(itemusers, min_support=0.025, min_confidence=0.2, min_lift=3, min_length=2)\n",
    "association_results = list(association_rules)"
   ]
  },
  {
   "cell_type": "code",
   "execution_count": 240,
   "metadata": {},
   "outputs": [],
   "source": [
    "result = {'item_base':[], 'item_add':[], 'support':[], 'confidence':[], 'lift':[]}\n",
    "for item in association_results:\n",
    "    pair = item[0]\n",
    "    items = [x for x in pair]\n",
    "    result['item_base'].append(items[0])\n",
    "    result['item_add'].append(items[1])\n",
    "    result['support'].append(item[1])\n",
    "    result['confidence'].append(item[2][0][2])\n",
    "    result['lift'].append(item[2][0][3])"
   ]
  },
  {
   "cell_type": "code",
   "execution_count": 241,
   "metadata": {},
   "outputs": [],
   "source": [
    "result = pd.DataFrame(result)"
   ]
  },
  {
   "cell_type": "code",
   "execution_count": 242,
   "metadata": {},
   "outputs": [],
   "source": [
    "res = result.sort_values('confidence', ascending=False).groupby('item_base').agg({'item_add':list}).reset_index()\n",
    "res2 = res.T\n",
    "res2.columns = res['item_base']\n",
    "res2 = res2.loc['item_add']\n",
    "test = new_test.explode('X')"
   ]
  },
  {
   "cell_type": "code",
   "execution_count": 252,
   "metadata": {},
   "outputs": [
    {
     "data": {
      "text/plain": [
       "item_base\n",
       "165               [457, 457, 457, 350, 457, 457, 150, 457]\n",
       "196                                             [316, 165]\n",
       "236                                                  [349]\n",
       "292      [349, 316, 165, 349, 300, 349, 150, 350, 150, ...\n",
       "300      [349, 349, 316, 508, 150, 509, 508, 350, 349, ...\n",
       "                               ...                        \n",
       "44191    [8874, 858, 2028, 4011, 8961, 5618, 46578, 422...\n",
       "44555                                               [2959]\n",
       "46578    [858, 2028, 8874, 858, 44191, 4226, 8874, 858,...\n",
       "46976                                         [2959, 4226]\n",
       "74458     [2959, 4226, 858, 2028, 44191, 4011, 4011, 4226]\n",
       "Name: item_add, Length: 66, dtype: object"
      ]
     },
     "execution_count": 252,
     "metadata": {},
     "output_type": "execute_result"
    }
   ],
   "source": [
    "# This is how the map look like.\n",
    "\n",
    "res2"
   ]
  },
  {
   "cell_type": "code",
   "execution_count": 256,
   "metadata": {},
   "outputs": [],
   "source": [
    "comparison = test.merge(result, left_on='X', right_on='item_base', how='left')\n",
    "comparison = comparison.groupby('userId').agg(item_add=('item_add',list), movie_list=('y',min)).reset_index()\n",
    "comparison['item_add'] = comparison['item_add'].apply(set).apply(list).apply(lambda x: [x[i] for i in range(len(x)) if x[i]==x[i] ])"
   ]
  },
  {
   "cell_type": "code",
   "execution_count": 257,
   "metadata": {},
   "outputs": [
    {
     "data": {
      "text/html": [
       "<div>\n",
       "<style scoped>\n",
       "    .dataframe tbody tr th:only-of-type {\n",
       "        vertical-align: middle;\n",
       "    }\n",
       "\n",
       "    .dataframe tbody tr th {\n",
       "        vertical-align: top;\n",
       "    }\n",
       "\n",
       "    .dataframe thead th {\n",
       "        text-align: right;\n",
       "    }\n",
       "</style>\n",
       "<table border=\"1\" class=\"dataframe\">\n",
       "  <thead>\n",
       "    <tr style=\"text-align: right;\">\n",
       "      <th></th>\n",
       "      <th>userId</th>\n",
       "      <th>item_add</th>\n",
       "      <th>movie_list</th>\n",
       "    </tr>\n",
       "  </thead>\n",
       "  <tbody>\n",
       "    <tr>\n",
       "      <th>0</th>\n",
       "      <td>1</td>\n",
       "      <td>[1732.0, 165.0, 1610.0, 4011.0, 2028.0, 5995.0...</td>\n",
       "      <td>[2959, 1968, 4226]</td>\n",
       "    </tr>\n",
       "    <tr>\n",
       "      <th>1</th>\n",
       "      <td>10</td>\n",
       "      <td>[]</td>\n",
       "      <td>[344, 349, 165, 457]</td>\n",
       "    </tr>\n",
       "    <tr>\n",
       "      <th>2</th>\n",
       "      <td>16</td>\n",
       "      <td>[8961.0, 4226.0, 1732.0, 74458.0, 457.0, 778.0...</td>\n",
       "      <td>[4011, 1732, 2105, 2455, 316, 198, 480, 8985, ...</td>\n",
       "    </tr>\n",
       "    <tr>\n",
       "      <th>3</th>\n",
       "      <td>20</td>\n",
       "      <td>[8961.0, 4226.0, 1732.0, 457.0, 778.0, 1961.0,...</td>\n",
       "      <td>[46578, 919, 8464, 1732, 46976, 480, 4728, 410...</td>\n",
       "    </tr>\n",
       "    <tr>\n",
       "      <th>4</th>\n",
       "      <td>22</td>\n",
       "      <td>[]</td>\n",
       "      <td>[457, 1610]</td>\n",
       "    </tr>\n",
       "    <tr>\n",
       "      <th>...</th>\n",
       "      <td>...</td>\n",
       "      <td>...</td>\n",
       "      <td>...</td>\n",
       "    </tr>\n",
       "    <tr>\n",
       "      <th>41046</th>\n",
       "      <td>270855</td>\n",
       "      <td>[1732.0, 165.0, 1610.0, 4011.0, 2028.0, 5995.0...</td>\n",
       "      <td>[1968]</td>\n",
       "    </tr>\n",
       "    <tr>\n",
       "      <th>41047</th>\n",
       "      <td>270879</td>\n",
       "      <td>[8961.0, 4226.0, 2058.0, 778.0, 150.0, 410.0, ...</td>\n",
       "      <td>[344, 165, 339, 1721, 4896, 3053, 2294, 480, 1...</td>\n",
       "    </tr>\n",
       "    <tr>\n",
       "      <th>41048</th>\n",
       "      <td>270880</td>\n",
       "      <td>[1961.0, 858.0, 750.0, 919.0]</td>\n",
       "      <td>[1721]</td>\n",
       "    </tr>\n",
       "    <tr>\n",
       "      <th>41049</th>\n",
       "      <td>270881</td>\n",
       "      <td>[]</td>\n",
       "      <td>[1968, 308]</td>\n",
       "    </tr>\n",
       "    <tr>\n",
       "      <th>41050</th>\n",
       "      <td>270893</td>\n",
       "      <td>[8961.0, 4226.0, 778.0, 44555.0, 2959.0, 150.0...</td>\n",
       "      <td>[2122, 2107, 165, 2028, 4034, 4011, 1732, 3034...</td>\n",
       "    </tr>\n",
       "  </tbody>\n",
       "</table>\n",
       "<p>41051 rows × 3 columns</p>\n",
       "</div>"
      ],
      "text/plain": [
       "       userId                                           item_add  \\\n",
       "0           1  [1732.0, 165.0, 1610.0, 4011.0, 2028.0, 5995.0...   \n",
       "1          10                                                 []   \n",
       "2          16  [8961.0, 4226.0, 1732.0, 74458.0, 457.0, 778.0...   \n",
       "3          20  [8961.0, 4226.0, 1732.0, 457.0, 778.0, 1961.0,...   \n",
       "4          22                                                 []   \n",
       "...       ...                                                ...   \n",
       "41046  270855  [1732.0, 165.0, 1610.0, 4011.0, 2028.0, 5995.0...   \n",
       "41047  270879  [8961.0, 4226.0, 2058.0, 778.0, 150.0, 410.0, ...   \n",
       "41048  270880                      [1961.0, 858.0, 750.0, 919.0]   \n",
       "41049  270881                                                 []   \n",
       "41050  270893  [8961.0, 4226.0, 778.0, 44555.0, 2959.0, 150.0...   \n",
       "\n",
       "                                              movie_list  \n",
       "0                                     [2959, 1968, 4226]  \n",
       "1                                   [344, 349, 165, 457]  \n",
       "2      [4011, 1732, 2105, 2455, 316, 198, 480, 8985, ...  \n",
       "3      [46578, 919, 8464, 1732, 46976, 480, 4728, 410...  \n",
       "4                                            [457, 1610]  \n",
       "...                                                  ...  \n",
       "41046                                             [1968]  \n",
       "41047  [344, 165, 339, 1721, 4896, 3053, 2294, 480, 1...  \n",
       "41048                                             [1721]  \n",
       "41049                                        [1968, 308]  \n",
       "41050  [2122, 2107, 165, 2028, 4034, 4011, 1732, 3034...  \n",
       "\n",
       "[41051 rows x 3 columns]"
      ]
     },
     "execution_count": 257,
     "metadata": {},
     "output_type": "execute_result"
    }
   ],
   "source": [
    "#  Movie list is the Y while item_add is the Y_hat or the movies we're trying to predict.\n",
    "#  Those list will be scored by Recall to evaluate how good is our model to predict what the users like\n",
    "\n",
    "comparison"
   ]
  },
  {
   "cell_type": "markdown",
   "metadata": {},
   "source": [
    "## Calculate the Recall\n",
    "As we know, recall formula equals to TP/(TP+FN) where TP is the true prediction and FN is the false prediction. In this case, we can divide the true prediction with the length of predction that the algorithm made. From this score, we know how much the algorithm can understand our users behavior."
   ]
  },
  {
   "cell_type": "code",
   "execution_count": 259,
   "metadata": {},
   "outputs": [],
   "source": [
    "comparison['item_add'] = comparison['item_add'].apply(set).apply(list)\n",
    "comparison['movie_list'] = comparison['movie_list'].apply(set).apply(list)\n",
    "comparison['intersection_len'] = [len(set(rec).intersection(movie)) for rec,movie in zip(comparison['item_add'], comparison['movie_list'])]\n",
    "comparison['pred_len'] = comparison['item_add'].apply(len)\n",
    "comparison['recall'] = comparison['intersection_len']/comparison['pred_len']"
   ]
  },
  {
   "cell_type": "code",
   "execution_count": 260,
   "metadata": {},
   "outputs": [
    {
     "data": {
      "text/html": [
       "<div>\n",
       "<style scoped>\n",
       "    .dataframe tbody tr th:only-of-type {\n",
       "        vertical-align: middle;\n",
       "    }\n",
       "\n",
       "    .dataframe tbody tr th {\n",
       "        vertical-align: top;\n",
       "    }\n",
       "\n",
       "    .dataframe thead th {\n",
       "        text-align: right;\n",
       "    }\n",
       "</style>\n",
       "<table border=\"1\" class=\"dataframe\">\n",
       "  <thead>\n",
       "    <tr style=\"text-align: right;\">\n",
       "      <th></th>\n",
       "      <th>userId</th>\n",
       "      <th>item_add</th>\n",
       "      <th>movie_list</th>\n",
       "      <th>intersection_len</th>\n",
       "      <th>pred_len</th>\n",
       "      <th>recall</th>\n",
       "    </tr>\n",
       "  </thead>\n",
       "  <tbody>\n",
       "    <tr>\n",
       "      <th>0</th>\n",
       "      <td>1</td>\n",
       "      <td>[1732.0, 165.0, 1610.0, 4011.0, 2028.0, 5995.0...</td>\n",
       "      <td>[1968, 4226, 2959]</td>\n",
       "      <td>0</td>\n",
       "      <td>13</td>\n",
       "      <td>0.000000</td>\n",
       "    </tr>\n",
       "    <tr>\n",
       "      <th>1</th>\n",
       "      <td>10</td>\n",
       "      <td>[]</td>\n",
       "      <td>[344, 457, 349, 165]</td>\n",
       "      <td>0</td>\n",
       "      <td>0</td>\n",
       "      <td>NaN</td>\n",
       "    </tr>\n",
       "    <tr>\n",
       "      <th>2</th>\n",
       "      <td>16</td>\n",
       "      <td>[8961.0, 4226.0, 1732.0, 457.0, 778.0, 1961.0,...</td>\n",
       "      <td>[480, 4226, 1732, 198, 4011, 8464, 2193, 2455,...</td>\n",
       "      <td>3</td>\n",
       "      <td>17</td>\n",
       "      <td>0.176471</td>\n",
       "    </tr>\n",
       "    <tr>\n",
       "      <th>3</th>\n",
       "      <td>20</td>\n",
       "      <td>[8961.0, 4226.0, 1732.0, 457.0, 778.0, 1961.0,...</td>\n",
       "      <td>[46976, 6283, 911, 8464, 150, 919, 920, 410, 2...</td>\n",
       "      <td>4</td>\n",
       "      <td>14</td>\n",
       "      <td>0.285714</td>\n",
       "    </tr>\n",
       "    <tr>\n",
       "      <th>4</th>\n",
       "      <td>22</td>\n",
       "      <td>[]</td>\n",
       "      <td>[457, 1610]</td>\n",
       "      <td>0</td>\n",
       "      <td>0</td>\n",
       "      <td>NaN</td>\n",
       "    </tr>\n",
       "    <tr>\n",
       "      <th>5</th>\n",
       "      <td>31</td>\n",
       "      <td>[]</td>\n",
       "      <td>[1377, 2018, 2294]</td>\n",
       "      <td>0</td>\n",
       "      <td>0</td>\n",
       "      <td>NaN</td>\n",
       "    </tr>\n",
       "    <tr>\n",
       "      <th>6</th>\n",
       "      <td>43</td>\n",
       "      <td>[8961.0, 4226.0, 4034.0, 1732.0, 165.0, 6373.0...</td>\n",
       "      <td>[8961, 3082, 2959, 788, 150, 919, 158, 2078, 4...</td>\n",
       "      <td>3</td>\n",
       "      <td>17</td>\n",
       "      <td>0.176471</td>\n",
       "    </tr>\n",
       "    <tr>\n",
       "      <th>7</th>\n",
       "      <td>53</td>\n",
       "      <td>[8961.0, 4226.0, 778.0, 2321.0, 150.0, 919.0, ...</td>\n",
       "      <td>[4226, 838, 3083, 2539, 1613, 6382, 2610, 2611...</td>\n",
       "      <td>1</td>\n",
       "      <td>19</td>\n",
       "      <td>0.052632</td>\n",
       "    </tr>\n",
       "    <tr>\n",
       "      <th>8</th>\n",
       "      <td>54</td>\n",
       "      <td>[919.0]</td>\n",
       "      <td>[480, 928, 4034, 5, 1544, 3784, 919, 920]</td>\n",
       "      <td>1</td>\n",
       "      <td>1</td>\n",
       "      <td>1.000000</td>\n",
       "    </tr>\n",
       "    <tr>\n",
       "      <th>9</th>\n",
       "      <td>57</td>\n",
       "      <td>[]</td>\n",
       "      <td>[1262, 2294]</td>\n",
       "      <td>0</td>\n",
       "      <td>0</td>\n",
       "      <td>NaN</td>\n",
       "    </tr>\n",
       "    <tr>\n",
       "      <th>10</th>\n",
       "      <td>64</td>\n",
       "      <td>[]</td>\n",
       "      <td>[480, 3101, 2470]</td>\n",
       "      <td>0</td>\n",
       "      <td>0</td>\n",
       "      <td>NaN</td>\n",
       "    </tr>\n",
       "    <tr>\n",
       "      <th>11</th>\n",
       "      <td>67</td>\n",
       "      <td>[919.0]</td>\n",
       "      <td>[1059, 165, 457, 150, 858]</td>\n",
       "      <td>0</td>\n",
       "      <td>1</td>\n",
       "      <td>0.000000</td>\n",
       "    </tr>\n",
       "    <tr>\n",
       "      <th>12</th>\n",
       "      <td>72</td>\n",
       "      <td>[]</td>\n",
       "      <td>[457]</td>\n",
       "      <td>0</td>\n",
       "      <td>0</td>\n",
       "      <td>NaN</td>\n",
       "    </tr>\n",
       "    <tr>\n",
       "      <th>13</th>\n",
       "      <td>73</td>\n",
       "      <td>[]</td>\n",
       "      <td>[2028]</td>\n",
       "      <td>0</td>\n",
       "      <td>0</td>\n",
       "      <td>NaN</td>\n",
       "    </tr>\n",
       "    <tr>\n",
       "      <th>14</th>\n",
       "      <td>77</td>\n",
       "      <td>[]</td>\n",
       "      <td>[608, 2690, 2395, 1284]</td>\n",
       "      <td>0</td>\n",
       "      <td>0</td>\n",
       "      <td>NaN</td>\n",
       "    </tr>\n",
       "    <tr>\n",
       "      <th>15</th>\n",
       "      <td>78</td>\n",
       "      <td>[1732.0, 1961.0, 778.0, 1610.0, 2028.0, 750.0,...</td>\n",
       "      <td>[1616, 1588]</td>\n",
       "      <td>0</td>\n",
       "      <td>10</td>\n",
       "      <td>0.000000</td>\n",
       "    </tr>\n",
       "    <tr>\n",
       "      <th>16</th>\n",
       "      <td>80</td>\n",
       "      <td>[292.0, 165.0, 300.0, 339.0, 150.0, 316.0, 350.0]</td>\n",
       "      <td>[480, 292, 165, 457, 300, 339, 344, 410, 316]</td>\n",
       "      <td>5</td>\n",
       "      <td>7</td>\n",
       "      <td>0.714286</td>\n",
       "    </tr>\n",
       "    <tr>\n",
       "      <th>17</th>\n",
       "      <td>84</td>\n",
       "      <td>[8961.0, 4226.0, 1732.0, 586.0, 1610.0, 2028.0...</td>\n",
       "      <td>[4896, 1059, 457, 2028, 3052, 2770, 150, 5816]</td>\n",
       "      <td>1</td>\n",
       "      <td>9</td>\n",
       "      <td>0.111111</td>\n",
       "    </tr>\n",
       "    <tr>\n",
       "      <th>18</th>\n",
       "      <td>87</td>\n",
       "      <td>[]</td>\n",
       "      <td>[608, 788, 112]</td>\n",
       "      <td>0</td>\n",
       "      <td>0</td>\n",
       "      <td>NaN</td>\n",
       "    </tr>\n",
       "    <tr>\n",
       "      <th>19</th>\n",
       "      <td>91</td>\n",
       "      <td>[457.0, 150.0, 350.0]</td>\n",
       "      <td>[480, 350, 292, 5, 552, 457, 586, 299, 594, 53...</td>\n",
       "      <td>2</td>\n",
       "      <td>3</td>\n",
       "      <td>0.666667</td>\n",
       "    </tr>\n",
       "  </tbody>\n",
       "</table>\n",
       "</div>"
      ],
      "text/plain": [
       "    userId                                           item_add  \\\n",
       "0        1  [1732.0, 165.0, 1610.0, 4011.0, 2028.0, 5995.0...   \n",
       "1       10                                                 []   \n",
       "2       16  [8961.0, 4226.0, 1732.0, 457.0, 778.0, 1961.0,...   \n",
       "3       20  [8961.0, 4226.0, 1732.0, 457.0, 778.0, 1961.0,...   \n",
       "4       22                                                 []   \n",
       "5       31                                                 []   \n",
       "6       43  [8961.0, 4226.0, 4034.0, 1732.0, 165.0, 6373.0...   \n",
       "7       53  [8961.0, 4226.0, 778.0, 2321.0, 150.0, 919.0, ...   \n",
       "8       54                                            [919.0]   \n",
       "9       57                                                 []   \n",
       "10      64                                                 []   \n",
       "11      67                                            [919.0]   \n",
       "12      72                                                 []   \n",
       "13      73                                                 []   \n",
       "14      77                                                 []   \n",
       "15      78  [1732.0, 1961.0, 778.0, 1610.0, 2028.0, 750.0,...   \n",
       "16      80  [292.0, 165.0, 300.0, 339.0, 150.0, 316.0, 350.0]   \n",
       "17      84  [8961.0, 4226.0, 1732.0, 586.0, 1610.0, 2028.0...   \n",
       "18      87                                                 []   \n",
       "19      91                              [457.0, 150.0, 350.0]   \n",
       "\n",
       "                                           movie_list  intersection_len  \\\n",
       "0                                  [1968, 4226, 2959]                 0   \n",
       "1                                [344, 457, 349, 165]                 0   \n",
       "2   [480, 4226, 1732, 198, 4011, 8464, 2193, 2455,...                 3   \n",
       "3   [46976, 6283, 911, 8464, 150, 919, 920, 410, 2...                 4   \n",
       "4                                         [457, 1610]                 0   \n",
       "5                                  [1377, 2018, 2294]                 0   \n",
       "6   [8961, 3082, 2959, 788, 150, 919, 158, 2078, 4...                 3   \n",
       "7   [4226, 838, 3083, 2539, 1613, 6382, 2610, 2611...                 1   \n",
       "8           [480, 928, 4034, 5, 1544, 3784, 919, 920]                 1   \n",
       "9                                        [1262, 2294]                 0   \n",
       "10                                  [480, 3101, 2470]                 0   \n",
       "11                         [1059, 165, 457, 150, 858]                 0   \n",
       "12                                              [457]                 0   \n",
       "13                                             [2028]                 0   \n",
       "14                            [608, 2690, 2395, 1284]                 0   \n",
       "15                                       [1616, 1588]                 0   \n",
       "16      [480, 292, 165, 457, 300, 339, 344, 410, 316]                 5   \n",
       "17     [4896, 1059, 457, 2028, 3052, 2770, 150, 5816]                 1   \n",
       "18                                    [608, 788, 112]                 0   \n",
       "19  [480, 350, 292, 5, 552, 457, 586, 299, 594, 53...                 2   \n",
       "\n",
       "    pred_len    recall  \n",
       "0         13  0.000000  \n",
       "1          0       NaN  \n",
       "2         17  0.176471  \n",
       "3         14  0.285714  \n",
       "4          0       NaN  \n",
       "5          0       NaN  \n",
       "6         17  0.176471  \n",
       "7         19  0.052632  \n",
       "8          1  1.000000  \n",
       "9          0       NaN  \n",
       "10         0       NaN  \n",
       "11         1  0.000000  \n",
       "12         0       NaN  \n",
       "13         0       NaN  \n",
       "14         0       NaN  \n",
       "15        10  0.000000  \n",
       "16         7  0.714286  \n",
       "17         9  0.111111  \n",
       "18         0       NaN  \n",
       "19         3  0.666667  "
      ]
     },
     "execution_count": 260,
     "metadata": {},
     "output_type": "execute_result"
    }
   ],
   "source": [
    "comparison.head(20)"
   ]
  },
  {
   "cell_type": "markdown",
   "metadata": {},
   "source": [
    "## Result\n",
    "We got 0.15 or 15% correct. Is it good or bad? Well, we need a comparison."
   ]
  },
  {
   "cell_type": "code",
   "execution_count": 246,
   "metadata": {},
   "outputs": [
    {
     "name": "stdout",
     "output_type": "stream",
     "text": [
      "% of users who don't get recommendation: 38.63243282745853%\n"
     ]
    }
   ],
   "source": [
    "print(f\"% of users who don't get recommendation: {len(comparison[comparison['recall'].isna()])/len(comparison) * 100}%\")"
   ]
  },
  {
   "cell_type": "code",
   "execution_count": 247,
   "metadata": {},
   "outputs": [
    {
     "data": {
      "text/plain": [
       "count    25192.000000\n",
       "mean         0.151967\n",
       "std          0.192365\n",
       "min          0.000000\n",
       "25%          0.000000\n",
       "50%          0.086957\n",
       "75%          0.230769\n",
       "max          1.000000\n",
       "Name: recall, dtype: float64"
      ]
     },
     "execution_count": 247,
     "metadata": {},
     "output_type": "execute_result"
    }
   ],
   "source": [
    "comparison['recall'].describe()"
   ]
  },
  {
   "cell_type": "code",
   "execution_count": 264,
   "metadata": {},
   "outputs": [
    {
     "data": {
      "image/png": "[encoded data removed]",
      "text/plain": [
       "<Figure size 640x480 with 1 Axes>"
      ]
     },
     "metadata": {},
     "output_type": "display_data"
    }
   ],
   "source": [
    "comparison.recall.plot(kind='hist')\n",
    "plt.title(\"Apriori Algorithm Recall Distribution\")\n",
    "plt.show()"
   ]
  },
  {
   "cell_type": "markdown",
   "metadata": {},
   "source": [
    "## Comparison\n",
    "In this section, I'd try to compare the Apriori Algorithm to random and popularity-based recommendation."
   ]
  },
  {
   "cell_type": "markdown",
   "metadata": {},
   "source": [
    "### Popluarity-Based Recommendation\n",
    "In this case, we only got 0.01 Recall score which is much worse than our apriori algorithm."
   ]
  },
  {
   "cell_type": "code",
   "execution_count": 266,
   "metadata": {},
   "outputs": [],
   "source": [
    "# Creating the top 20 most review movies based on the train dataset.\n",
    "\n",
    "train = ratings[~ratings['userId'].isin(test_users)]\n",
    "test = ratings[ratings['userId'].isin(test_users)]\n",
    "\n",
    "test = test.groupby('userId').agg(movie_list=('movieId',list)).reset_index()\n",
    "test.loc[:,'idx'] = 1"
   ]
  },
  {
   "cell_type": "code",
   "execution_count": 267,
   "metadata": {},
   "outputs": [],
   "source": [
    "popular_list = list(train.groupby('movieId')['userId'].nunique().index[:10])\n",
    "test['popular_list'] = [popular_list]*len(test)"
   ]
  },
  {
   "cell_type": "code",
   "execution_count": 268,
   "metadata": {},
   "outputs": [],
   "source": [
    "# I am to lazy to change the variable name :P\n",
    "comparison = test.copy()\n",
    "comparison['intersection_len'] = [len(set(rec).intersection(movie)) for rec,movie in zip(comparison['popular_list'], comparison['movie_list'])]\n",
    "comparison['len'] = comparison['popular_list'].apply(len)\n",
    "comparison['recall'] = comparison['intersection_len']/comparison['len']"
   ]
  },
  {
   "cell_type": "code",
   "execution_count": 269,
   "metadata": {},
   "outputs": [
    {
     "data": {
      "text/plain": [
       "count    41051.000000\n",
       "mean         0.011807\n",
       "std          0.040330\n",
       "min          0.000000\n",
       "25%          0.000000\n",
       "50%          0.000000\n",
       "75%          0.000000\n",
       "max          0.500000\n",
       "Name: recall, dtype: float64"
      ]
     },
     "execution_count": 269,
     "metadata": {},
     "output_type": "execute_result"
    }
   ],
   "source": [
    "comparison['recall'].describe()"
   ]
  },
  {
   "cell_type": "code",
   "execution_count": 270,
   "metadata": {},
   "outputs": [
    {
     "data": {
      "image/png": "[encoded data removed]",
      "text/plain": [
       "<Figure size 640x480 with 1 Axes>"
      ]
     },
     "metadata": {},
     "output_type": "display_data"
    }
   ],
   "source": [
    "comparison.recall.plot(kind='hist')\n",
    "plt.title(\"Trending Recall Distribution\")\n",
    "plt.show()"
   ]
  },
  {
   "cell_type": "markdown",
   "metadata": {},
   "source": [
    "### Random-based recommendation\n",
    "As we can see, random recommendation is much much much worse as it only got 0.004 correct prediction."
   ]
  },
  {
   "cell_type": "code",
   "execution_count": 272,
   "metadata": {},
   "outputs": [],
   "source": [
    "# Creating the top 20 most review movies based on the train dataset.\n",
    "\n",
    "train = ratings[~ratings['userId'].isin(test_users)]\n",
    "test = ratings[ratings['userId'].isin(test_users)]\n",
    "\n",
    "test = test.groupby('userId').agg(movie_list=('movieId',list)).reset_index()\n",
    "test.loc[:,'idx'] = 1"
   ]
  },
  {
   "cell_type": "code",
   "execution_count": 273,
   "metadata": {},
   "outputs": [],
   "source": [
    "movies_list = train['movieId'].unique()"
   ]
  },
  {
   "cell_type": "code",
   "execution_count": 274,
   "metadata": {},
   "outputs": [],
   "source": [
    "# Generating 10 random movieID for each user\n",
    "test['random_list'] = test['movie_list'].apply(lambda x: np.random.choice(movies_list, size=10))"
   ]
  },
  {
   "cell_type": "code",
   "execution_count": 275,
   "metadata": {},
   "outputs": [],
   "source": [
    "comparison = test.copy()\n",
    "comparison['intersection_len'] = [len(set(rec).intersection(movie)) for rec,movie in zip(comparison['random_list'], comparison['movie_list'])]\n",
    "comparison['len'] = comparison['random_list'].apply(len)\n",
    "comparison['recall'] = comparison['intersection_len']/comparison['len']"
   ]
  },
  {
   "cell_type": "code",
   "execution_count": 276,
   "metadata": {},
   "outputs": [
    {
     "data": {
      "text/plain": [
       "count    41051.000000\n",
       "mean         0.004034\n",
       "std          0.020237\n",
       "min          0.000000\n",
       "25%          0.000000\n",
       "50%          0.000000\n",
       "75%          0.000000\n",
       "max          0.200000\n",
       "Name: recall, dtype: float64"
      ]
     },
     "execution_count": 276,
     "metadata": {},
     "output_type": "execute_result"
    }
   ],
   "source": [
    "comparison['recall'].describe()"
   ]
  },
  {
   "cell_type": "code",
   "execution_count": 277,
   "metadata": {},
   "outputs": [
    {
     "data": {
      "image/png": "[encoded data removed]",
      "text/plain": [
       "<Figure size 640x480 with 1 Axes>"
      ]
     },
     "metadata": {},
     "output_type": "display_data"
    }
   ],
   "source": [
    "comparison.recall.plot(kind='hist')\n",
    "plt.title(\"Random Generated Recall Distribution\")\n",
    "plt.show()"
   ]
  },
  {
   "cell_type": "markdown",
   "metadata": {},
   "source": [
    "# Conclusion\n",
    "\n",
    "1. Yes we can handle the cold-start users by recommending them using association rules.\n",
    "2. The recommendation of apriori algorithm is much better than recommending users trending or random movies\n",
    "3. There are ~30% users who won't get recommendations since the algorithm couldn't find the association of those reviewed movies\n",
    "\n",
    "Anyway, how did I get this idea?\n",
    "# References\n",
    "1. Practical Recommender Systems (https://www.manning.com/books/practical-recommender-systems)\n",
    "Anything that mentioned in this notebook\n",
    "2. Apriori Algorithm (https://medium.com/analytics-vidhya/apriori-algorithm-in-association-rule-learning-9287fe17e944?source=-----9287fe17e944----3----------------------------)\n",
    "3. Recall (https://towardsdatascience.com/multi-class-metrics-made-simple-part-i-precision-and-recall-9250280bddc2)\n",
    "4. How to know your model is good? (https://www.coursera.org/learn/machine-learning-projects)"
   ]
  },
  {
   "cell_type": "markdown",
   "metadata": {},
   "source": []
  }
 ],
 "metadata": {
  "kernelspec": {
   "display_name": "Python 3.10.6 64-bit",
   "language": "python",
   "name": "python3"
  },
  "language_info": {
   "codemirror_mode": {
    "name": "ipython",
    "version": 3
   },
   "file_extension": ".py",
   "mimetype": "text/x-python",
   "name": "python",
   "nbconvert_exporter": "python",
   "pygments_lexer": "ipython3",
   "version": "3.10.6"
  },
  "orig_nbformat": 4,
  "vscode": {
   "interpreter": {
    "hash": "916dbcbb3f70747c44a77c7bcd40155683ae19c65e1c03b4aa3499c5328201f1"
   }
  }
 },
 "nbformat": 4,
 "nbformat_minor": 2
}
