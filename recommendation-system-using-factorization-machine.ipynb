{
 "cells": [
  {
   "cell_type": "code",
   "execution_count": 1,
   "id": "83f11186",
   "metadata": {
    "_cell_guid": "b1076dfc-b9ad-4769-8c92-a6c4dae69d19",
    "_uuid": "8f2839f25d086af736a60e9eeb907d3b93b6e0e5",
    "execution": {
     "iopub.execute_input": "2023-06-29T10:21:46.871754Z",
     "iopub.status.busy": "2023-06-29T10:21:46.871256Z",
     "iopub.status.idle": "2023-06-29T10:21:48.960542Z",
     "shell.execute_reply": "2023-06-29T10:21:48.959525Z"
    },
    "papermill": {
     "duration": 2.104021,
     "end_time": "2023-06-29T10:21:48.963263",
     "exception": false,
     "start_time": "2023-06-29T10:21:46.859242",
     "status": "completed"
    },
    "tags": []
   },
   "outputs": [
    {
     "name": "stdout",
     "output_type": "stream",
     "text": [
      "/kaggle/input/ecommerce-events-history-in-cosmetics-shop/2019-Nov.csv\n",
      "/kaggle/input/ecommerce-events-history-in-cosmetics-shop/2020-Feb.csv\n",
      "/kaggle/input/ecommerce-events-history-in-cosmetics-shop/2019-Oct.csv\n",
      "/kaggle/input/ecommerce-events-history-in-cosmetics-shop/2019-Dec.csv\n",
      "/kaggle/input/ecommerce-events-history-in-cosmetics-shop/2020-Jan.csv\n"
     ]
    }
   ],
   "source": [
    "# Tannotationshis Python 3 environment comes with many helpful analytics libraries installed\n",
    "# It is defined by the kaggle/python Docker image: https://github.com/kaggle/docker-python\n",
    "# For example, here's several helpful packages to load\n",
    "\n",
    "import numpy as np # linear algebra\n",
    "import pandas as pd # data processing, CSV file I/O (e.g. pd.read_csv)\n",
    "from tqdm import tqdm\n",
    "import matplotlib.pyplot as plt\n",
    "import seaborn as sns\n",
    "\n",
    "# Input data files are available in the read-only \"../input/\" directory\n",
    "# For example, running this (by clicking run or pressing Shift+Enter) will list all files under the input directory\n",
    "\n",
    "import os\n",
    "dataset_list = []\n",
    "for dirname, _, filenames in os.walk('/kaggle/input'):\n",
    "    for filename in filenames:\n",
    "        dataset_list.append(os.path.join(dirname, filename))\n",
    "        print(os.path.join(dirname, filename))\n",
    "\n",
    "# You can write up to 20GB to the current directory (/kaggle/working/) that gets preserved as output when you create a version using \"Save & Run All\" \n",
    "# You can also write temporary files to /kaggle/temp/, but they won't be saved outside of the current session"
   ]
  },
  {
   "cell_type": "code",
   "execution_count": 2,
   "id": "05a80d39",
   "metadata": {
    "execution": {
     "iopub.execute_input": "2023-06-29T10:21:48.984454Z",
     "iopub.status.busy": "2023-06-29T10:21:48.984121Z",
     "iopub.status.idle": "2023-06-29T10:22:02.292887Z",
     "shell.execute_reply": "2023-06-29T10:22:02.291904Z"
    },
    "papermill": {
     "duration": 13.321678,
     "end_time": "2023-06-29T10:22:02.295250",
     "exception": false,
     "start_time": "2023-06-29T10:21:48.973572",
     "status": "completed"
    },
    "tags": []
   },
   "outputs": [
    {
     "name": "stderr",
     "output_type": "stream",
     "text": [
      "  0%|          | 0/5 [00:13<?, ?it/s]\n"
     ]
    }
   ],
   "source": [
    "df_list = []\n",
    "for file_path in tqdm(dataset_list):\n",
    "    df_list.append(pd.read_csv(file_path))\n",
    "    break"
   ]
  },
  {
   "cell_type": "code",
   "execution_count": 3,
   "id": "2534c8db",
   "metadata": {
    "execution": {
     "iopub.execute_input": "2023-06-29T10:22:02.318921Z",
     "iopub.status.busy": "2023-06-29T10:22:02.318163Z",
     "iopub.status.idle": "2023-06-29T10:22:02.668431Z",
     "shell.execute_reply": "2023-06-29T10:22:02.667310Z"
    },
    "papermill": {
     "duration": 0.365604,
     "end_time": "2023-06-29T10:22:02.671137",
     "exception": false,
     "start_time": "2023-06-29T10:22:02.305533",
     "status": "completed"
    },
    "tags": []
   },
   "outputs": [
    {
     "data": {
      "text/html": [
       "<div>\n",
       "<style scoped>\n",
       "    .dataframe tbody tr th:only-of-type {\n",
       "        vertical-align: middle;\n",
       "    }\n",
       "\n",
       "    .dataframe tbody tr th {\n",
       "        vertical-align: top;\n",
       "    }\n",
       "\n",
       "    .dataframe thead th {\n",
       "        text-align: right;\n",
       "    }\n",
       "</style>\n",
       "<table border=\"1\" class=\"dataframe\">\n",
       "  <thead>\n",
       "    <tr style=\"text-align: right;\">\n",
       "      <th></th>\n",
       "      <th>event_time</th>\n",
       "      <th>event_type</th>\n",
       "      <th>product_id</th>\n",
       "      <th>category_id</th>\n",
       "      <th>category_code</th>\n",
       "      <th>brand</th>\n",
       "      <th>price</th>\n",
       "      <th>user_id</th>\n",
       "      <th>user_session</th>\n",
       "    </tr>\n",
       "  </thead>\n",
       "  <tbody>\n",
       "    <tr>\n",
       "      <th>0</th>\n",
       "      <td>2019-11-01 00:00:02 UTC</td>\n",
       "      <td>view</td>\n",
       "      <td>5802432</td>\n",
       "      <td>1487580009286598681</td>\n",
       "      <td>NaN</td>\n",
       "      <td>NaN</td>\n",
       "      <td>0.32</td>\n",
       "      <td>562076640</td>\n",
       "      <td>09fafd6c-6c99-46b1-834f-33527f4de241</td>\n",
       "    </tr>\n",
       "    <tr>\n",
       "      <th>1</th>\n",
       "      <td>2019-11-01 00:00:09 UTC</td>\n",
       "      <td>cart</td>\n",
       "      <td>5844397</td>\n",
       "      <td>1487580006317032337</td>\n",
       "      <td>NaN</td>\n",
       "      <td>NaN</td>\n",
       "      <td>2.38</td>\n",
       "      <td>553329724</td>\n",
       "      <td>2067216c-31b5-455d-a1cc-af0575a34ffb</td>\n",
       "    </tr>\n",
       "    <tr>\n",
       "      <th>2</th>\n",
       "      <td>2019-11-01 00:00:10 UTC</td>\n",
       "      <td>view</td>\n",
       "      <td>5837166</td>\n",
       "      <td>1783999064103190764</td>\n",
       "      <td>NaN</td>\n",
       "      <td>pnb</td>\n",
       "      <td>22.22</td>\n",
       "      <td>556138645</td>\n",
       "      <td>57ed222e-a54a-4907-9944-5a875c2d7f4f</td>\n",
       "    </tr>\n",
       "    <tr>\n",
       "      <th>3</th>\n",
       "      <td>2019-11-01 00:00:11 UTC</td>\n",
       "      <td>cart</td>\n",
       "      <td>5876812</td>\n",
       "      <td>1487580010100293687</td>\n",
       "      <td>NaN</td>\n",
       "      <td>jessnail</td>\n",
       "      <td>3.16</td>\n",
       "      <td>564506666</td>\n",
       "      <td>186c1951-8052-4b37-adce-dd9644b1d5f7</td>\n",
       "    </tr>\n",
       "    <tr>\n",
       "      <th>4</th>\n",
       "      <td>2019-11-01 00:00:24 UTC</td>\n",
       "      <td>remove_from_cart</td>\n",
       "      <td>5826182</td>\n",
       "      <td>1487580007483048900</td>\n",
       "      <td>NaN</td>\n",
       "      <td>NaN</td>\n",
       "      <td>3.33</td>\n",
       "      <td>553329724</td>\n",
       "      <td>2067216c-31b5-455d-a1cc-af0575a34ffb</td>\n",
       "    </tr>\n",
       "    <tr>\n",
       "      <th>...</th>\n",
       "      <td>...</td>\n",
       "      <td>...</td>\n",
       "      <td>...</td>\n",
       "      <td>...</td>\n",
       "      <td>...</td>\n",
       "      <td>...</td>\n",
       "      <td>...</td>\n",
       "      <td>...</td>\n",
       "      <td>...</td>\n",
       "    </tr>\n",
       "    <tr>\n",
       "      <th>4635832</th>\n",
       "      <td>2019-11-30 23:59:46 UTC</td>\n",
       "      <td>view</td>\n",
       "      <td>5830317</td>\n",
       "      <td>1487580009496313889</td>\n",
       "      <td>NaN</td>\n",
       "      <td>NaN</td>\n",
       "      <td>4.76</td>\n",
       "      <td>457678989</td>\n",
       "      <td>ee50b160-a4db-4722-8751-6812c5b38295</td>\n",
       "    </tr>\n",
       "    <tr>\n",
       "      <th>4635833</th>\n",
       "      <td>2019-11-30 23:59:47 UTC</td>\n",
       "      <td>view</td>\n",
       "      <td>5733064</td>\n",
       "      <td>1487580004832248652</td>\n",
       "      <td>NaN</td>\n",
       "      <td>beautix</td>\n",
       "      <td>9.37</td>\n",
       "      <td>422196217</td>\n",
       "      <td>ab5e6dd5-8700-4ecc-a300-9f1eca5d1a95</td>\n",
       "    </tr>\n",
       "    <tr>\n",
       "      <th>4635834</th>\n",
       "      <td>2019-11-30 23:59:47 UTC</td>\n",
       "      <td>view</td>\n",
       "      <td>5867785</td>\n",
       "      <td>1487580007835370453</td>\n",
       "      <td>NaN</td>\n",
       "      <td>kims</td>\n",
       "      <td>31.10</td>\n",
       "      <td>572579084</td>\n",
       "      <td>d42865b7-7e04-4038-9be0-a59165625f06</td>\n",
       "    </tr>\n",
       "    <tr>\n",
       "      <th>4635835</th>\n",
       "      <td>2019-11-30 23:59:57 UTC</td>\n",
       "      <td>view</td>\n",
       "      <td>5779406</td>\n",
       "      <td>2151191071051219817</td>\n",
       "      <td>NaN</td>\n",
       "      <td>NaN</td>\n",
       "      <td>2.86</td>\n",
       "      <td>540006764</td>\n",
       "      <td>d4b5aa49-d731-40f1-92f1-277416d6e063</td>\n",
       "    </tr>\n",
       "    <tr>\n",
       "      <th>4635836</th>\n",
       "      <td>2019-11-30 23:59:58 UTC</td>\n",
       "      <td>view</td>\n",
       "      <td>5880201</td>\n",
       "      <td>2029731308699124089</td>\n",
       "      <td>NaN</td>\n",
       "      <td>rasyan</td>\n",
       "      <td>3.76</td>\n",
       "      <td>579969854</td>\n",
       "      <td>e9fa2c3e-8c9e-448c-880a-21ca57c18b3b</td>\n",
       "    </tr>\n",
       "  </tbody>\n",
       "</table>\n",
       "<p>4635837 rows × 9 columns</p>\n",
       "</div>"
      ],
      "text/plain": [
       "                      event_time        event_type  product_id  \\\n",
       "0        2019-11-01 00:00:02 UTC              view     5802432   \n",
       "1        2019-11-01 00:00:09 UTC              cart     5844397   \n",
       "2        2019-11-01 00:00:10 UTC              view     5837166   \n",
       "3        2019-11-01 00:00:11 UTC              cart     5876812   \n",
       "4        2019-11-01 00:00:24 UTC  remove_from_cart     5826182   \n",
       "...                          ...               ...         ...   \n",
       "4635832  2019-11-30 23:59:46 UTC              view     5830317   \n",
       "4635833  2019-11-30 23:59:47 UTC              view     5733064   \n",
       "4635834  2019-11-30 23:59:47 UTC              view     5867785   \n",
       "4635835  2019-11-30 23:59:57 UTC              view     5779406   \n",
       "4635836  2019-11-30 23:59:58 UTC              view     5880201   \n",
       "\n",
       "                 category_id category_code     brand  price    user_id  \\\n",
       "0        1487580009286598681           NaN       NaN   0.32  562076640   \n",
       "1        1487580006317032337           NaN       NaN   2.38  553329724   \n",
       "2        1783999064103190764           NaN       pnb  22.22  556138645   \n",
       "3        1487580010100293687           NaN  jessnail   3.16  564506666   \n",
       "4        1487580007483048900           NaN       NaN   3.33  553329724   \n",
       "...                      ...           ...       ...    ...        ...   \n",
       "4635832  1487580009496313889           NaN       NaN   4.76  457678989   \n",
       "4635833  1487580004832248652           NaN   beautix   9.37  422196217   \n",
       "4635834  1487580007835370453           NaN      kims  31.10  572579084   \n",
       "4635835  2151191071051219817           NaN       NaN   2.86  540006764   \n",
       "4635836  2029731308699124089           NaN    rasyan   3.76  579969854   \n",
       "\n",
       "                                 user_session  \n",
       "0        09fafd6c-6c99-46b1-834f-33527f4de241  \n",
       "1        2067216c-31b5-455d-a1cc-af0575a34ffb  \n",
       "2        57ed222e-a54a-4907-9944-5a875c2d7f4f  \n",
       "3        186c1951-8052-4b37-adce-dd9644b1d5f7  \n",
       "4        2067216c-31b5-455d-a1cc-af0575a34ffb  \n",
       "...                                       ...  \n",
       "4635832  ee50b160-a4db-4722-8751-6812c5b38295  \n",
       "4635833  ab5e6dd5-8700-4ecc-a300-9f1eca5d1a95  \n",
       "4635834  d42865b7-7e04-4038-9be0-a59165625f06  \n",
       "4635835  d4b5aa49-d731-40f1-92f1-277416d6e063  \n",
       "4635836  e9fa2c3e-8c9e-448c-880a-21ca57c18b3b  \n",
       "\n",
       "[4635837 rows x 9 columns]"
      ]
     },
     "execution_count": 3,
     "metadata": {},
     "output_type": "execute_result"
    }
   ],
   "source": [
    "dataset = pd.concat(df_list)\n",
    "dataset"
   ]
  },
  {
   "cell_type": "code",
   "execution_count": 4,
   "id": "d8f29a55",
   "metadata": {
    "execution": {
     "iopub.execute_input": "2023-06-29T10:22:02.698064Z",
     "iopub.status.busy": "2023-06-29T10:22:02.696152Z",
     "iopub.status.idle": "2023-06-29T10:22:13.551833Z",
     "shell.execute_reply": "2023-06-29T10:22:13.550806Z"
    },
    "papermill": {
     "duration": 10.8708,
     "end_time": "2023-06-29T10:22:13.554257",
     "exception": false,
     "start_time": "2023-06-29T10:22:02.683457",
     "status": "completed"
    },
    "tags": []
   },
   "outputs": [],
   "source": [
    "dataset = dataset.sort_values('event_time', ascending=False).drop_duplicates(subset=['user_id', 'product_id'])"
   ]
  },
  {
   "cell_type": "markdown",
   "id": "7bf87181",
   "metadata": {
    "papermill": {
     "duration": 0.009527,
     "end_time": "2023-06-29T10:22:13.575161",
     "exception": false,
     "start_time": "2023-06-29T10:22:13.565634",
     "status": "completed"
    },
    "tags": []
   },
   "source": [
    "# Exploratory Data Analysis\n",
    "as always :3\n",
    "\n",
    "From the EDA below, I know that\n",
    "1. Category code can be splitted by dot into 3 new columns\n",
    "2. Rating rules -> view: 2, cart: 3, remove_from_cart: 1, purchase: 4 <br>\n",
    "The reason for rating rules, in my personal opinion, is because we can't really tell the users preferences if they only view the product pages, but we can tell that the users don't need the product when removing it from cart.\n",
    "\n",
    "Most of the data are coming from appliances.environment.vacuum"
   ]
  },
  {
   "cell_type": "code",
   "execution_count": 5,
   "id": "3ea9ade9",
   "metadata": {
    "execution": {
     "iopub.execute_input": "2023-06-29T10:22:13.601335Z",
     "iopub.status.busy": "2023-06-29T10:22:13.601018Z",
     "iopub.status.idle": "2023-06-29T10:22:17.502135Z",
     "shell.execute_reply": "2023-06-29T10:22:17.501083Z"
    },
    "papermill": {
     "duration": 3.914773,
     "end_time": "2023-06-29T10:22:17.504714",
     "exception": false,
     "start_time": "2023-06-29T10:22:13.589941",
     "status": "completed"
    },
    "tags": []
   },
   "outputs": [],
   "source": [
    "dataset['category_code'] = dataset['category_code'].apply(lambda x: x.split('.') if type(x)==str else None)\n",
    "dataset['cat1'] = dataset['category_code'].apply(lambda x: None if str(x)=='None' else x[0] if len(x)>0 else None)\n",
    "dataset['cat2'] = dataset['category_code'].apply(lambda x: None if str(x)=='None' else x[1] if len(x)>1 else None)\n",
    "dataset['cat3'] = dataset['category_code'].apply(lambda x: None if str(x)=='None' else x[2] if len(x)>2 else None)"
   ]
  },
  {
   "cell_type": "code",
   "execution_count": 6,
   "id": "698a5601",
   "metadata": {
    "execution": {
     "iopub.execute_input": "2023-06-29T10:22:17.526552Z",
     "iopub.status.busy": "2023-06-29T10:22:17.526191Z",
     "iopub.status.idle": "2023-06-29T10:22:18.476131Z",
     "shell.execute_reply": "2023-06-29T10:22:18.475175Z"
    },
    "papermill": {
     "duration": 0.96352,
     "end_time": "2023-06-29T10:22:18.478697",
     "exception": false,
     "start_time": "2023-06-29T10:22:17.515177",
     "status": "completed"
    },
    "tags": []
   },
   "outputs": [],
   "source": [
    "dataset = dataset[['event_type', 'user_id', 'product_id', 'brand', 'price', 'cat1', 'cat2', 'cat3']]"
   ]
  },
  {
   "cell_type": "code",
   "execution_count": 7,
   "id": "0fe0cef0",
   "metadata": {
    "execution": {
     "iopub.execute_input": "2023-06-29T10:22:18.500019Z",
     "iopub.status.busy": "2023-06-29T10:22:18.499726Z",
     "iopub.status.idle": "2023-06-29T10:22:21.025710Z",
     "shell.execute_reply": "2023-06-29T10:22:21.024656Z"
    },
    "papermill": {
     "duration": 2.538977,
     "end_time": "2023-06-29T10:22:21.027949",
     "exception": false,
     "start_time": "2023-06-29T10:22:18.488972",
     "status": "completed"
    },
    "tags": []
   },
   "outputs": [
    {
     "name": "stdout",
     "output_type": "stream",
     "text": [
      "event_type has 4 values\n",
      "Those are: ['view' 'remove_from_cart' 'cart' 'purchase']\n",
      "user_id has 368232 values\n",
      "product_id has 43419 values\n",
      "brand has 239 values\n",
      "price has 2537 values\n",
      "cat1 has 5 values\n",
      "Those are: [None 'apparel' 'appliances' 'furniture' 'stationery' 'accessories']\n",
      "cat2 has 8 values\n",
      "Those are: [None 'glove' 'environment' 'living_room' 'personal' 'cartrige' 'bag'\n",
      " 'cosmetic_bag' 'bathroom']\n",
      "cat3 has 6 values\n",
      "Those are: [None 'vacuum' 'cabinet' 'hair_cutter' 'bath' 'air_conditioner' 'chair']\n"
     ]
    }
   ],
   "source": [
    "for col in dataset.columns:\n",
    "    print(f\"{col} has {dataset[col].nunique()} values\")\n",
    "    if dataset[col].nunique() < 20:\n",
    "        print(f\"Those are: {dataset[col].unique()}\")"
   ]
  },
  {
   "cell_type": "code",
   "execution_count": 8,
   "id": "2aff1786",
   "metadata": {
    "execution": {
     "iopub.execute_input": "2023-06-29T10:22:21.050799Z",
     "iopub.status.busy": "2023-06-29T10:22:21.050499Z",
     "iopub.status.idle": "2023-06-29T10:22:26.513482Z",
     "shell.execute_reply": "2023-06-29T10:22:26.512430Z"
    },
    "papermill": {
     "duration": 5.477607,
     "end_time": "2023-06-29T10:22:26.516746",
     "exception": false,
     "start_time": "2023-06-29T10:22:21.039139",
     "status": "completed"
    },
    "tags": []
   },
   "outputs": [
    {
     "data": {
      "image/png": "[encoded data removed]",
      "text/plain": [
       "<Figure size 2000x500 with 5 Axes>"
      ]
     },
     "metadata": {},
     "output_type": "display_data"
    }
   ],
   "source": [
    "fig, ax = plt.subplots(1,5,figsize=(20,5))\n",
    "for idx, col in enumerate(dataset.select_dtypes('O').columns):\n",
    "    data = dataset.groupby(col)['user_id'].count().reset_index()\n",
    "    sns.barplot(data=data, x=col, y='user_id', ax=ax[idx])\n",
    "    ax[idx].set_xticklabels(labels=ax[idx].get_xticklabels(), rotation = 90)"
   ]
  },
  {
   "cell_type": "code",
   "execution_count": 9,
   "id": "0ac96cc1",
   "metadata": {
    "execution": {
     "iopub.execute_input": "2023-06-29T10:22:26.543314Z",
     "iopub.status.busy": "2023-06-29T10:22:26.543007Z",
     "iopub.status.idle": "2023-06-29T10:22:28.292206Z",
     "shell.execute_reply": "2023-06-29T10:22:28.291177Z"
    },
    "papermill": {
     "duration": 1.765522,
     "end_time": "2023-06-29T10:22:28.294861",
     "exception": false,
     "start_time": "2023-06-29T10:22:26.529339",
     "status": "completed"
    },
    "tags": []
   },
   "outputs": [],
   "source": [
    "dataset['rating'] = dataset['event_type'].apply(lambda x: 1 if x=='remove_from_cart' else 2 if x=='view' else 3 if x=='cart' else 4)"
   ]
  },
  {
   "cell_type": "markdown",
   "id": "8b314f15",
   "metadata": {
    "papermill": {
     "duration": 0.011744,
     "end_time": "2023-06-29T10:22:28.319038",
     "exception": false,
     "start_time": "2023-06-29T10:22:28.307294",
     "status": "completed"
    },
    "tags": []
   },
   "source": [
    "# Factorization Machine!"
   ]
  },
  {
   "cell_type": "code",
   "execution_count": 10,
   "id": "c8a861e4",
   "metadata": {
    "_kg_hide-input": true,
    "_kg_hide-output": true,
    "execution": {
     "iopub.execute_input": "2023-06-29T10:22:28.346168Z",
     "iopub.status.busy": "2023-06-29T10:22:28.345248Z",
     "iopub.status.idle": "2023-06-29T10:22:43.670460Z",
     "shell.execute_reply": "2023-06-29T10:22:43.669217Z"
    },
    "papermill": {
     "duration": 15.341256,
     "end_time": "2023-06-29T10:22:43.672961",
     "exception": false,
     "start_time": "2023-06-29T10:22:28.331705",
     "status": "completed"
    },
    "tags": []
   },
   "outputs": [
    {
     "name": "stdout",
     "output_type": "stream",
     "text": [
      "Collecting deepctr\r\n",
      "  Downloading deepctr-0.9.3-py3-none-any.whl (141 kB)\r\n",
      "\u001b[2K     \u001b[90m━━━━━━━━━━━━━━━━━━━━━━━━━━━━━━━━━━━━━━━\u001b[0m \u001b[32m141.2/141.2 kB\u001b[0m \u001b[31m4.0 MB/s\u001b[0m eta \u001b[36m0:00:00\u001b[0m\r\n",
      "\u001b[?25hRequirement already satisfied: requests in /opt/conda/lib/python3.10/site-packages (from deepctr) (2.28.2)\r\n",
      "Collecting h5py==3.7.0 (from deepctr)\r\n",
      "  Downloading h5py-3.7.0-cp310-cp310-manylinux_2_12_x86_64.manylinux2010_x86_64.whl (4.5 MB)\r\n",
      "\u001b[2K     \u001b[90m━━━━━━━━━━━━━━━━━━━━━━━━━━━━━━━━━━━━━━━━\u001b[0m \u001b[32m4.5/4.5 MB\u001b[0m \u001b[31m38.7 MB/s\u001b[0m eta \u001b[36m0:00:00\u001b[0m\r\n",
      "\u001b[?25hRequirement already satisfied: numpy>=1.14.5 in /opt/conda/lib/python3.10/site-packages (from h5py==3.7.0->deepctr) (1.23.5)\r\n",
      "Requirement already satisfied: charset-normalizer<4,>=2 in /opt/conda/lib/python3.10/site-packages (from requests->deepctr) (2.1.1)\r\n",
      "Requirement already satisfied: idna<4,>=2.5 in /opt/conda/lib/python3.10/site-packages (from requests->deepctr) (3.4)\r\n",
      "Requirement already satisfied: urllib3<1.27,>=1.21.1 in /opt/conda/lib/python3.10/site-packages (from requests->deepctr) (1.26.15)\r\n",
      "Requirement already satisfied: certifi>=2017.4.17 in /opt/conda/lib/python3.10/site-packages (from requests->deepctr) (2023.5.7)\r\n",
      "Installing collected packages: h5py, deepctr\r\n",
      "  Attempting uninstall: h5py\r\n",
      "    Found existing installation: h5py 3.8.0\r\n",
      "    Uninstalling h5py-3.8.0:\r\n",
      "      Successfully uninstalled h5py-3.8.0\r\n",
      "Successfully installed deepctr-0.9.3 h5py-3.7.0\r\n",
      "\u001b[33mWARNING: Running pip as the 'root' user can result in broken permissions and conflicting behaviour with the system package manager. It is recommended to use a virtual environment instead: https://pip.pypa.io/warnings/venv\u001b[0m\u001b[33m\r\n",
      "\u001b[0m"
     ]
    }
   ],
   "source": [
    "!pip install deepctr"
   ]
  },
  {
   "cell_type": "code",
   "execution_count": 11,
   "id": "f0529a05",
   "metadata": {
    "_kg_hide-output": true,
    "execution": {
     "iopub.execute_input": "2023-06-29T10:22:43.701680Z",
     "iopub.status.busy": "2023-06-29T10:22:43.701322Z",
     "iopub.status.idle": "2023-06-29T10:22:59.952241Z",
     "shell.execute_reply": "2023-06-29T10:22:59.951294Z"
    },
    "papermill": {
     "duration": 16.268211,
     "end_time": "2023-06-29T10:22:59.954708",
     "exception": false,
     "start_time": "2023-06-29T10:22:43.686497",
     "status": "completed"
    },
    "tags": []
   },
   "outputs": [
    {
     "name": "stderr",
     "output_type": "stream",
     "text": [
      "/opt/conda/lib/python3.10/site-packages/tensorflow_io/python/ops/__init__.py:98: UserWarning: unable to load libtensorflow_io_plugins.so: unable to open file: libtensorflow_io_plugins.so, from paths: ['/opt/conda/lib/python3.10/site-packages/tensorflow_io/python/ops/libtensorflow_io_plugins.so']\n",
      "caused by: ['/opt/conda/lib/python3.10/site-packages/tensorflow_io/python/ops/libtensorflow_io_plugins.so: undefined symbol: _ZN3tsl6StatusC1EN10tensorflow5error4CodeESt17basic_string_viewIcSt11char_traitsIcEENS_14SourceLocationE']\n",
      "  warnings.warn(f\"unable to load libtensorflow_io_plugins.so: {e}\")\n",
      "/opt/conda/lib/python3.10/site-packages/tensorflow_io/python/ops/__init__.py:104: UserWarning: file system plugins are not loaded: unable to open file: libtensorflow_io.so, from paths: ['/opt/conda/lib/python3.10/site-packages/tensorflow_io/python/ops/libtensorflow_io.so']\n",
      "caused by: ['/opt/conda/lib/python3.10/site-packages/tensorflow_io/python/ops/libtensorflow_io.so: undefined symbol: _ZTVN10tensorflow13GcsFileSystemE']\n",
      "  warnings.warn(f\"file system plugins are not loaded: {e}\")\n"
     ]
    }
   ],
   "source": [
    "from sklearn.metrics import mean_squared_error\n",
    "from sklearn.model_selection import train_test_split\n",
    "from sklearn.preprocessing import LabelEncoder, MinMaxScaler\n",
    "\n",
    "from deepctr.models import DeepFM\n",
    "from deepctr.estimator import DeepFMEstimator\n",
    "from deepctr.estimator.inputs import input_fn_pandas\n",
    "from deepctr.feature_column import SparseFeat, DenseFeat, get_feature_names\n",
    "import tensorflow as tf"
   ]
  },
  {
   "cell_type": "code",
   "execution_count": 12,
   "id": "1d2b253c",
   "metadata": {
    "execution": {
     "iopub.execute_input": "2023-06-29T10:22:59.983018Z",
     "iopub.status.busy": "2023-06-29T10:22:59.982330Z",
     "iopub.status.idle": "2023-06-29T10:22:59.987382Z",
     "shell.execute_reply": "2023-06-29T10:22:59.986323Z"
    },
    "papermill": {
     "duration": 0.021487,
     "end_time": "2023-06-29T10:22:59.989543",
     "exception": false,
     "start_time": "2023-06-29T10:22:59.968056",
     "status": "completed"
    },
    "tags": []
   },
   "outputs": [],
   "source": [
    "sparse_features = ['user_id', 'product_id', 'brand', 'cat1', 'cat2', 'cat3']\n",
    "dense_features = ['price']\n",
    "target = 'rating'"
   ]
  },
  {
   "cell_type": "code",
   "execution_count": 13,
   "id": "f96f28ec",
   "metadata": {
    "execution": {
     "iopub.execute_input": "2023-06-29T10:23:00.017698Z",
     "iopub.status.busy": "2023-06-29T10:23:00.017415Z",
     "iopub.status.idle": "2023-06-29T10:23:03.591465Z",
     "shell.execute_reply": "2023-06-29T10:23:03.590375Z"
    },
    "papermill": {
     "duration": 3.591284,
     "end_time": "2023-06-29T10:23:03.594116",
     "exception": false,
     "start_time": "2023-06-29T10:23:00.002832",
     "status": "completed"
    },
    "tags": []
   },
   "outputs": [],
   "source": [
    "dataset[sparse_features] = dataset[sparse_features].fillna('-1', )\n",
    "dataset[dense_features] = dataset[dense_features].fillna('other')"
   ]
  },
  {
   "cell_type": "code",
   "execution_count": 14,
   "id": "70e66b41",
   "metadata": {
    "execution": {
     "iopub.execute_input": "2023-06-29T10:23:03.626440Z",
     "iopub.status.busy": "2023-06-29T10:23:03.625994Z",
     "iopub.status.idle": "2023-06-29T10:23:07.828842Z",
     "shell.execute_reply": "2023-06-29T10:23:07.827733Z"
    },
    "papermill": {
     "duration": 4.221318,
     "end_time": "2023-06-29T10:23:07.831595",
     "exception": false,
     "start_time": "2023-06-29T10:23:03.610277",
     "status": "completed"
    },
    "tags": []
   },
   "outputs": [],
   "source": [
    "data = dataset.copy()\n",
    "\n",
    "for feat in sparse_features:\n",
    "    lbe = LabelEncoder()\n",
    "    data[feat] = lbe.fit_transform(data[feat])"
   ]
  },
  {
   "cell_type": "code",
   "execution_count": 15,
   "id": "b8896b50",
   "metadata": {
    "execution": {
     "iopub.execute_input": "2023-06-29T10:23:07.862143Z",
     "iopub.status.busy": "2023-06-29T10:23:07.861777Z",
     "iopub.status.idle": "2023-06-29T10:23:07.994800Z",
     "shell.execute_reply": "2023-06-29T10:23:07.993670Z"
    },
    "papermill": {
     "duration": 0.151398,
     "end_time": "2023-06-29T10:23:07.997583",
     "exception": false,
     "start_time": "2023-06-29T10:23:07.846185",
     "status": "completed"
    },
    "tags": []
   },
   "outputs": [],
   "source": [
    "mms = MinMaxScaler(feature_range=(0, 1))\n",
    "data[dense_features] = mms.fit_transform(data[dense_features])"
   ]
  },
  {
   "cell_type": "code",
   "execution_count": 16,
   "id": "85f021c4",
   "metadata": {
    "execution": {
     "iopub.execute_input": "2023-06-29T10:23:08.028350Z",
     "iopub.status.busy": "2023-06-29T10:23:08.027968Z",
     "iopub.status.idle": "2023-06-29T10:23:08.096298Z",
     "shell.execute_reply": "2023-06-29T10:23:08.095174Z"
    },
    "papermill": {
     "duration": 0.086714,
     "end_time": "2023-06-29T10:23:08.099161",
     "exception": false,
     "start_time": "2023-06-29T10:23:08.012447",
     "status": "completed"
    },
    "tags": []
   },
   "outputs": [],
   "source": [
    "fixlen_feature_columns = [SparseFeat(feat, data[feat].max() + 1, embedding_dim=4) for feat in sparse_features] + [DenseFeat(feat, 1, ) for feat in dense_features]\n",
    "\n",
    "dnn_feature_columns = fixlen_feature_columns\n",
    "linear_feature_columns = fixlen_feature_columns\n",
    "\n",
    "feature_names = get_feature_names(linear_feature_columns + dnn_feature_columns)"
   ]
  },
  {
   "cell_type": "code",
   "execution_count": 17,
   "id": "d30d68e9",
   "metadata": {
    "execution": {
     "iopub.execute_input": "2023-06-29T10:23:08.132347Z",
     "iopub.status.busy": "2023-06-29T10:23:08.131286Z",
     "iopub.status.idle": "2023-06-29T10:23:08.795876Z",
     "shell.execute_reply": "2023-06-29T10:23:08.794741Z"
    },
    "papermill": {
     "duration": 0.683727,
     "end_time": "2023-06-29T10:23:08.798854",
     "exception": false,
     "start_time": "2023-06-29T10:23:08.115127",
     "status": "completed"
    },
    "tags": []
   },
   "outputs": [],
   "source": [
    "train, test = train_test_split(data, test_size=0.2, random_state=2020)\n",
    "train_model_input = {name: train[name] for name in feature_names}\n",
    "test_model_input = {name: test[name] for name in feature_names}"
   ]
  },
  {
   "cell_type": "code",
   "execution_count": 18,
   "id": "23f6bd6f",
   "metadata": {
    "execution": {
     "iopub.execute_input": "2023-06-29T10:23:08.831518Z",
     "iopub.status.busy": "2023-06-29T10:23:08.831076Z",
     "iopub.status.idle": "2023-06-29T10:23:15.732824Z",
     "shell.execute_reply": "2023-06-29T10:23:15.731783Z"
    },
    "papermill": {
     "duration": 6.920462,
     "end_time": "2023-06-29T10:23:15.735274",
     "exception": false,
     "start_time": "2023-06-29T10:23:08.814812",
     "status": "completed"
    },
    "tags": []
   },
   "outputs": [],
   "source": [
    "# 4.Define Model,train,predict and evaluate\n",
    "model = DeepFM(linear_feature_columns, dnn_feature_columns, task='regression',\n",
    "              dnn_hidden_units=(64, 16), l2_reg_linear=1e-05,)"
   ]
  },
  {
   "cell_type": "code",
   "execution_count": 19,
   "id": "a50f07a2",
   "metadata": {
    "execution": {
     "iopub.execute_input": "2023-06-29T10:23:15.765172Z",
     "iopub.status.busy": "2023-06-29T10:23:15.763605Z",
     "iopub.status.idle": "2023-06-29T10:23:38.853480Z",
     "shell.execute_reply": "2023-06-29T10:23:38.852038Z"
    },
    "papermill": {
     "duration": 23.107154,
     "end_time": "2023-06-29T10:23:38.856246",
     "exception": false,
     "start_time": "2023-06-29T10:23:15.749092",
     "status": "completed"
    },
    "tags": []
   },
   "outputs": [
    {
     "name": "stdout",
     "output_type": "stream",
     "text": [
      "Epoch 1/10\n",
      "8/8 - 7s - loss: 6.0456 - mse: 6.0455 - val_loss: 5.5983 - val_mse: 5.5979\n",
      "Epoch 2/10\n",
      "8/8 - 1s - loss: 5.3397 - mse: 5.3389 - val_loss: 4.9828 - val_mse: 4.9814\n",
      "Epoch 3/10\n",
      "8/8 - 1s - loss: 4.6990 - mse: 4.6968 - val_loss: 4.2980 - val_mse: 4.2948\n",
      "Epoch 4/10\n",
      "8/8 - 1s - loss: 3.9869 - mse: 3.9827 - val_loss: 3.5694 - val_mse: 3.5639\n",
      "Epoch 5/10\n",
      "8/8 - 1s - loss: 3.2470 - mse: 3.2403 - val_loss: 2.8348 - val_mse: 2.8265\n",
      "Epoch 6/10\n",
      "8/8 - 1s - loss: 2.5218 - mse: 2.5123 - val_loss: 2.1447 - val_mse: 2.1335\n",
      "Epoch 7/10\n",
      "8/8 - 1s - loss: 1.8701 - mse: 1.8576 - val_loss: 1.5635 - val_mse: 1.5494\n",
      "Epoch 8/10\n",
      "8/8 - 1s - loss: 1.3548 - mse: 1.3395 - val_loss: 1.1480 - val_mse: 1.1313\n",
      "Epoch 9/10\n",
      "8/8 - 1s - loss: 1.0186 - mse: 1.0011 - val_loss: 0.9162 - val_mse: 0.8977\n",
      "Epoch 10/10\n",
      "8/8 - 0s - loss: 0.8543 - mse: 0.8355 - val_loss: 0.8265 - val_mse: 0.8075\n"
     ]
    }
   ],
   "source": [
    "model.compile(\"RMSProp\", \"mse\", metrics=['mse'], )\n",
    "history = model.fit(train_model_input, train[target].values, batch_size=256*256*3, epochs=10, verbose=2, validation_split=0.2)"
   ]
  },
  {
   "cell_type": "code",
   "execution_count": 20,
   "id": "5ac39f4b",
   "metadata": {
    "execution": {
     "iopub.execute_input": "2023-06-29T10:23:38.891303Z",
     "iopub.status.busy": "2023-06-29T10:23:38.889503Z",
     "iopub.status.idle": "2023-06-29T10:23:39.319109Z",
     "shell.execute_reply": "2023-06-29T10:23:39.318108Z"
    },
    "papermill": {
     "duration": 0.449324,
     "end_time": "2023-06-29T10:23:39.321948",
     "exception": false,
     "start_time": "2023-06-29T10:23:38.872624",
     "status": "completed"
    },
    "tags": []
   },
   "outputs": [],
   "source": [
    " pred_ans = model.predict(test_model_input, batch_size=256*256*3)"
   ]
  },
  {
   "cell_type": "code",
   "execution_count": 21,
   "id": "ab5dcaa6",
   "metadata": {
    "execution": {
     "iopub.execute_input": "2023-06-29T10:23:39.355649Z",
     "iopub.status.busy": "2023-06-29T10:23:39.354012Z",
     "iopub.status.idle": "2023-06-29T10:23:39.756991Z",
     "shell.execute_reply": "2023-06-29T10:23:39.756038Z"
    },
    "papermill": {
     "duration": 0.422151,
     "end_time": "2023-06-29T10:23:39.759675",
     "exception": false,
     "start_time": "2023-06-29T10:23:39.337524",
     "status": "completed"
    },
    "tags": []
   },
   "outputs": [],
   "source": [
    "test = pd.DataFrame(test_model_input).merge(dataset[target], left_index=True, right_index=True)\n",
    "test['yhat'] = pred_ans"
   ]
  },
  {
   "cell_type": "code",
   "execution_count": 22,
   "id": "3b389cbb",
   "metadata": {
    "execution": {
     "iopub.execute_input": "2023-06-29T10:23:39.791709Z",
     "iopub.status.busy": "2023-06-29T10:23:39.791348Z",
     "iopub.status.idle": "2023-06-29T10:23:39.808626Z",
     "shell.execute_reply": "2023-06-29T10:23:39.807676Z"
    },
    "papermill": {
     "duration": 0.035556,
     "end_time": "2023-06-29T10:23:39.810769",
     "exception": false,
     "start_time": "2023-06-29T10:23:39.775213",
     "status": "completed"
    },
    "tags": []
   },
   "outputs": [
    {
     "data": {
      "text/html": [
       "<div>\n",
       "<style scoped>\n",
       "    .dataframe tbody tr th:only-of-type {\n",
       "        vertical-align: middle;\n",
       "    }\n",
       "\n",
       "    .dataframe tbody tr th {\n",
       "        vertical-align: top;\n",
       "    }\n",
       "\n",
       "    .dataframe thead th {\n",
       "        text-align: right;\n",
       "    }\n",
       "</style>\n",
       "<table border=\"1\" class=\"dataframe\">\n",
       "  <thead>\n",
       "    <tr style=\"text-align: right;\">\n",
       "      <th></th>\n",
       "      <th>user_id</th>\n",
       "      <th>product_id</th>\n",
       "      <th>brand</th>\n",
       "      <th>cat1</th>\n",
       "      <th>cat2</th>\n",
       "      <th>cat3</th>\n",
       "      <th>price</th>\n",
       "      <th>rating</th>\n",
       "      <th>yhat</th>\n",
       "    </tr>\n",
       "  </thead>\n",
       "  <tbody>\n",
       "    <tr>\n",
       "      <th>4228760</th>\n",
       "      <td>250529</td>\n",
       "      <td>3488</td>\n",
       "      <td>0</td>\n",
       "      <td>0</td>\n",
       "      <td>0</td>\n",
       "      <td>0</td>\n",
       "      <td>0.200909</td>\n",
       "      <td>2</td>\n",
       "      <td>2.213842</td>\n",
       "    </tr>\n",
       "    <tr>\n",
       "      <th>452414</th>\n",
       "      <td>38381</td>\n",
       "      <td>29309</td>\n",
       "      <td>0</td>\n",
       "      <td>0</td>\n",
       "      <td>0</td>\n",
       "      <td>0</td>\n",
       "      <td>0.206558</td>\n",
       "      <td>2</td>\n",
       "      <td>2.162187</td>\n",
       "    </tr>\n",
       "    <tr>\n",
       "      <th>4452134</th>\n",
       "      <td>75737</td>\n",
       "      <td>365</td>\n",
       "      <td>198</td>\n",
       "      <td>3</td>\n",
       "      <td>5</td>\n",
       "      <td>6</td>\n",
       "      <td>0.261059</td>\n",
       "      <td>2</td>\n",
       "      <td>1.897829</td>\n",
       "    </tr>\n",
       "    <tr>\n",
       "      <th>3840241</th>\n",
       "      <td>325281</td>\n",
       "      <td>4570</td>\n",
       "      <td>0</td>\n",
       "      <td>0</td>\n",
       "      <td>0</td>\n",
       "      <td>0</td>\n",
       "      <td>0.212084</td>\n",
       "      <td>2</td>\n",
       "      <td>1.988689</td>\n",
       "    </tr>\n",
       "    <tr>\n",
       "      <th>4060135</th>\n",
       "      <td>344051</td>\n",
       "      <td>29458</td>\n",
       "      <td>0</td>\n",
       "      <td>0</td>\n",
       "      <td>0</td>\n",
       "      <td>0</td>\n",
       "      <td>0.244112</td>\n",
       "      <td>4</td>\n",
       "      <td>1.925801</td>\n",
       "    </tr>\n",
       "    <tr>\n",
       "      <th>...</th>\n",
       "      <td>...</td>\n",
       "      <td>...</td>\n",
       "      <td>...</td>\n",
       "      <td>...</td>\n",
       "      <td>...</td>\n",
       "      <td>...</td>\n",
       "      <td>...</td>\n",
       "      <td>...</td>\n",
       "      <td>...</td>\n",
       "    </tr>\n",
       "    <tr>\n",
       "      <th>4063323</th>\n",
       "      <td>347627</td>\n",
       "      <td>13775</td>\n",
       "      <td>0</td>\n",
       "      <td>0</td>\n",
       "      <td>0</td>\n",
       "      <td>0</td>\n",
       "      <td>0.240526</td>\n",
       "      <td>2</td>\n",
       "      <td>1.921748</td>\n",
       "    </tr>\n",
       "    <tr>\n",
       "      <th>2613642</th>\n",
       "      <td>287975</td>\n",
       "      <td>16545</td>\n",
       "      <td>120</td>\n",
       "      <td>0</td>\n",
       "      <td>0</td>\n",
       "      <td>0</td>\n",
       "      <td>0.214442</td>\n",
       "      <td>4</td>\n",
       "      <td>2.022863</td>\n",
       "    </tr>\n",
       "    <tr>\n",
       "      <th>1095126</th>\n",
       "      <td>29275</td>\n",
       "      <td>3575</td>\n",
       "      <td>0</td>\n",
       "      <td>0</td>\n",
       "      <td>0</td>\n",
       "      <td>0</td>\n",
       "      <td>0.205846</td>\n",
       "      <td>1</td>\n",
       "      <td>2.031453</td>\n",
       "    </tr>\n",
       "    <tr>\n",
       "      <th>3691904</th>\n",
       "      <td>325775</td>\n",
       "      <td>15266</td>\n",
       "      <td>0</td>\n",
       "      <td>0</td>\n",
       "      <td>0</td>\n",
       "      <td>0</td>\n",
       "      <td>0.199607</td>\n",
       "      <td>2</td>\n",
       "      <td>1.836236</td>\n",
       "    </tr>\n",
       "    <tr>\n",
       "      <th>3710918</th>\n",
       "      <td>329564</td>\n",
       "      <td>21595</td>\n",
       "      <td>116</td>\n",
       "      <td>0</td>\n",
       "      <td>0</td>\n",
       "      <td>0</td>\n",
       "      <td>0.207172</td>\n",
       "      <td>2</td>\n",
       "      <td>2.008740</td>\n",
       "    </tr>\n",
       "  </tbody>\n",
       "</table>\n",
       "<p>477968 rows × 9 columns</p>\n",
       "</div>"
      ],
      "text/plain": [
       "         user_id  product_id  brand  cat1  cat2  cat3     price  rating  \\\n",
       "4228760   250529        3488      0     0     0     0  0.200909       2   \n",
       "452414     38381       29309      0     0     0     0  0.206558       2   \n",
       "4452134    75737         365    198     3     5     6  0.261059       2   \n",
       "3840241   325281        4570      0     0     0     0  0.212084       2   \n",
       "4060135   344051       29458      0     0     0     0  0.244112       4   \n",
       "...          ...         ...    ...   ...   ...   ...       ...     ...   \n",
       "4063323   347627       13775      0     0     0     0  0.240526       2   \n",
       "2613642   287975       16545    120     0     0     0  0.214442       4   \n",
       "1095126    29275        3575      0     0     0     0  0.205846       1   \n",
       "3691904   325775       15266      0     0     0     0  0.199607       2   \n",
       "3710918   329564       21595    116     0     0     0  0.207172       2   \n",
       "\n",
       "             yhat  \n",
       "4228760  2.213842  \n",
       "452414   2.162187  \n",
       "4452134  1.897829  \n",
       "3840241  1.988689  \n",
       "4060135  1.925801  \n",
       "...           ...  \n",
       "4063323  1.921748  \n",
       "2613642  2.022863  \n",
       "1095126  2.031453  \n",
       "3691904  1.836236  \n",
       "3710918  2.008740  \n",
       "\n",
       "[477968 rows x 9 columns]"
      ]
     },
     "execution_count": 22,
     "metadata": {},
     "output_type": "execute_result"
    }
   ],
   "source": [
    "test"
   ]
  },
  {
   "cell_type": "code",
   "execution_count": 23,
   "id": "ad9e9e93",
   "metadata": {
    "execution": {
     "iopub.execute_input": "2023-06-29T10:23:39.843437Z",
     "iopub.status.busy": "2023-06-29T10:23:39.842579Z",
     "iopub.status.idle": "2023-06-29T10:23:39.853616Z",
     "shell.execute_reply": "2023-06-29T10:23:39.852345Z"
    },
    "papermill": {
     "duration": 0.028777,
     "end_time": "2023-06-29T10:23:39.855923",
     "exception": false,
     "start_time": "2023-06-29T10:23:39.827146",
     "status": "completed"
    },
    "tags": []
   },
   "outputs": [
    {
     "data": {
      "text/plain": [
       "0.8072439043061865"
      ]
     },
     "execution_count": 23,
     "metadata": {},
     "output_type": "execute_result"
    }
   ],
   "source": [
    "np.square(test['rating'] - test['yhat']).mean()"
   ]
  },
  {
   "cell_type": "code",
   "execution_count": 24,
   "id": "4254d0ad",
   "metadata": {
    "execution": {
     "iopub.execute_input": "2023-06-29T10:23:39.888008Z",
     "iopub.status.busy": "2023-06-29T10:23:39.887630Z",
     "iopub.status.idle": "2023-06-29T10:23:40.233348Z",
     "shell.execute_reply": "2023-06-29T10:23:40.232251Z"
    },
    "papermill": {
     "duration": 0.363865,
     "end_time": "2023-06-29T10:23:40.235535",
     "exception": false,
     "start_time": "2023-06-29T10:23:39.871670",
     "status": "completed"
    },
    "tags": []
   },
   "outputs": [
    {
     "data": {
      "text/plain": [
       "<Axes: ylabel='Frequency'>"
      ]
     },
     "execution_count": 24,
     "metadata": {},
     "output_type": "execute_result"
    },
    {
     "data": {
      "image/png": "[encoded data removed]",
      "text/plain": [
       "<Figure size 640x480 with 1 Axes>"
      ]
     },
     "metadata": {},
     "output_type": "display_data"
    }
   ],
   "source": [
    "test['rating'].plot(kind='hist')"
   ]
  },
  {
   "cell_type": "code",
   "execution_count": 25,
   "id": "381d93ff",
   "metadata": {
    "execution": {
     "iopub.execute_input": "2023-06-29T10:23:40.268783Z",
     "iopub.status.busy": "2023-06-29T10:23:40.268476Z",
     "iopub.status.idle": "2023-06-29T10:23:40.581313Z",
     "shell.execute_reply": "2023-06-29T10:23:40.580281Z"
    },
    "papermill": {
     "duration": 0.33212,
     "end_time": "2023-06-29T10:23:40.583854",
     "exception": false,
     "start_time": "2023-06-29T10:23:40.251734",
     "status": "completed"
    },
    "tags": []
   },
   "outputs": [
    {
     "data": {
      "text/plain": [
       "<Axes: ylabel='Frequency'>"
      ]
     },
     "execution_count": 25,
     "metadata": {},
     "output_type": "execute_result"
    },
    {
     "data": {
      "image/png": "[encoded data removed]",
      "text/plain": [
       "<Figure size 640x480 with 1 Axes>"
      ]
     },
     "metadata": {},
     "output_type": "display_data"
    }
   ],
   "source": [
    "test['yhat'].plot(kind='hist')"
   ]
  },
  {
   "cell_type": "code",
   "execution_count": 26,
   "id": "441a783d",
   "metadata": {
    "execution": {
     "iopub.execute_input": "2023-06-29T10:23:40.617321Z",
     "iopub.status.busy": "2023-06-29T10:23:40.617028Z",
     "iopub.status.idle": "2023-06-29T10:23:40.823722Z",
     "shell.execute_reply": "2023-06-29T10:23:40.822592Z"
    },
    "papermill": {
     "duration": 0.2264,
     "end_time": "2023-06-29T10:23:40.826586",
     "exception": false,
     "start_time": "2023-06-29T10:23:40.600186",
     "status": "completed"
    },
    "tags": []
   },
   "outputs": [],
   "source": [
    "test['rank'] = test.groupby('user_id')['yhat'].rank(method='max', ascending=False)"
   ]
  },
  {
   "cell_type": "code",
   "execution_count": 27,
   "id": "a20d0276",
   "metadata": {
    "execution": {
     "iopub.execute_input": "2023-06-29T10:23:40.861203Z",
     "iopub.status.busy": "2023-06-29T10:23:40.860843Z",
     "iopub.status.idle": "2023-06-29T10:23:40.881612Z",
     "shell.execute_reply": "2023-06-29T10:23:40.880432Z"
    },
    "papermill": {
     "duration": 0.041207,
     "end_time": "2023-06-29T10:23:40.884793",
     "exception": false,
     "start_time": "2023-06-29T10:23:40.843586",
     "status": "completed"
    },
    "tags": []
   },
   "outputs": [
    {
     "data": {
      "text/html": [
       "<div>\n",
       "<style scoped>\n",
       "    .dataframe tbody tr th:only-of-type {\n",
       "        vertical-align: middle;\n",
       "    }\n",
       "\n",
       "    .dataframe tbody tr th {\n",
       "        vertical-align: top;\n",
       "    }\n",
       "\n",
       "    .dataframe thead th {\n",
       "        text-align: right;\n",
       "    }\n",
       "</style>\n",
       "<table border=\"1\" class=\"dataframe\">\n",
       "  <thead>\n",
       "    <tr style=\"text-align: right;\">\n",
       "      <th></th>\n",
       "      <th>user_id</th>\n",
       "      <th>product_id</th>\n",
       "      <th>brand</th>\n",
       "      <th>cat1</th>\n",
       "      <th>cat2</th>\n",
       "      <th>cat3</th>\n",
       "      <th>price</th>\n",
       "      <th>rating</th>\n",
       "      <th>yhat</th>\n",
       "      <th>rank</th>\n",
       "    </tr>\n",
       "  </thead>\n",
       "  <tbody>\n",
       "    <tr>\n",
       "      <th>4228760</th>\n",
       "      <td>250529</td>\n",
       "      <td>3488</td>\n",
       "      <td>0</td>\n",
       "      <td>0</td>\n",
       "      <td>0</td>\n",
       "      <td>0</td>\n",
       "      <td>0.200909</td>\n",
       "      <td>2</td>\n",
       "      <td>2.213842</td>\n",
       "      <td>3.0</td>\n",
       "    </tr>\n",
       "    <tr>\n",
       "      <th>452414</th>\n",
       "      <td>38381</td>\n",
       "      <td>29309</td>\n",
       "      <td>0</td>\n",
       "      <td>0</td>\n",
       "      <td>0</td>\n",
       "      <td>0</td>\n",
       "      <td>0.206558</td>\n",
       "      <td>2</td>\n",
       "      <td>2.162187</td>\n",
       "      <td>5.0</td>\n",
       "    </tr>\n",
       "    <tr>\n",
       "      <th>4452134</th>\n",
       "      <td>75737</td>\n",
       "      <td>365</td>\n",
       "      <td>198</td>\n",
       "      <td>3</td>\n",
       "      <td>5</td>\n",
       "      <td>6</td>\n",
       "      <td>0.261059</td>\n",
       "      <td>2</td>\n",
       "      <td>1.897829</td>\n",
       "      <td>1.0</td>\n",
       "    </tr>\n",
       "    <tr>\n",
       "      <th>3840241</th>\n",
       "      <td>325281</td>\n",
       "      <td>4570</td>\n",
       "      <td>0</td>\n",
       "      <td>0</td>\n",
       "      <td>0</td>\n",
       "      <td>0</td>\n",
       "      <td>0.212084</td>\n",
       "      <td>2</td>\n",
       "      <td>1.988689</td>\n",
       "      <td>56.0</td>\n",
       "    </tr>\n",
       "    <tr>\n",
       "      <th>4060135</th>\n",
       "      <td>344051</td>\n",
       "      <td>29458</td>\n",
       "      <td>0</td>\n",
       "      <td>0</td>\n",
       "      <td>0</td>\n",
       "      <td>0</td>\n",
       "      <td>0.244112</td>\n",
       "      <td>4</td>\n",
       "      <td>1.925801</td>\n",
       "      <td>1.0</td>\n",
       "    </tr>\n",
       "    <tr>\n",
       "      <th>...</th>\n",
       "      <td>...</td>\n",
       "      <td>...</td>\n",
       "      <td>...</td>\n",
       "      <td>...</td>\n",
       "      <td>...</td>\n",
       "      <td>...</td>\n",
       "      <td>...</td>\n",
       "      <td>...</td>\n",
       "      <td>...</td>\n",
       "      <td>...</td>\n",
       "    </tr>\n",
       "    <tr>\n",
       "      <th>4063323</th>\n",
       "      <td>347627</td>\n",
       "      <td>13775</td>\n",
       "      <td>0</td>\n",
       "      <td>0</td>\n",
       "      <td>0</td>\n",
       "      <td>0</td>\n",
       "      <td>0.240526</td>\n",
       "      <td>2</td>\n",
       "      <td>1.921748</td>\n",
       "      <td>1.0</td>\n",
       "    </tr>\n",
       "    <tr>\n",
       "      <th>2613642</th>\n",
       "      <td>287975</td>\n",
       "      <td>16545</td>\n",
       "      <td>120</td>\n",
       "      <td>0</td>\n",
       "      <td>0</td>\n",
       "      <td>0</td>\n",
       "      <td>0.214442</td>\n",
       "      <td>4</td>\n",
       "      <td>2.022863</td>\n",
       "      <td>1.0</td>\n",
       "    </tr>\n",
       "    <tr>\n",
       "      <th>1095126</th>\n",
       "      <td>29275</td>\n",
       "      <td>3575</td>\n",
       "      <td>0</td>\n",
       "      <td>0</td>\n",
       "      <td>0</td>\n",
       "      <td>0</td>\n",
       "      <td>0.205846</td>\n",
       "      <td>1</td>\n",
       "      <td>2.031453</td>\n",
       "      <td>8.0</td>\n",
       "    </tr>\n",
       "    <tr>\n",
       "      <th>3691904</th>\n",
       "      <td>325775</td>\n",
       "      <td>15266</td>\n",
       "      <td>0</td>\n",
       "      <td>0</td>\n",
       "      <td>0</td>\n",
       "      <td>0</td>\n",
       "      <td>0.199607</td>\n",
       "      <td>2</td>\n",
       "      <td>1.836236</td>\n",
       "      <td>1.0</td>\n",
       "    </tr>\n",
       "    <tr>\n",
       "      <th>3710918</th>\n",
       "      <td>329564</td>\n",
       "      <td>21595</td>\n",
       "      <td>116</td>\n",
       "      <td>0</td>\n",
       "      <td>0</td>\n",
       "      <td>0</td>\n",
       "      <td>0.207172</td>\n",
       "      <td>2</td>\n",
       "      <td>2.008740</td>\n",
       "      <td>1.0</td>\n",
       "    </tr>\n",
       "  </tbody>\n",
       "</table>\n",
       "<p>477968 rows × 10 columns</p>\n",
       "</div>"
      ],
      "text/plain": [
       "         user_id  product_id  brand  cat1  cat2  cat3     price  rating  \\\n",
       "4228760   250529        3488      0     0     0     0  0.200909       2   \n",
       "452414     38381       29309      0     0     0     0  0.206558       2   \n",
       "4452134    75737         365    198     3     5     6  0.261059       2   \n",
       "3840241   325281        4570      0     0     0     0  0.212084       2   \n",
       "4060135   344051       29458      0     0     0     0  0.244112       4   \n",
       "...          ...         ...    ...   ...   ...   ...       ...     ...   \n",
       "4063323   347627       13775      0     0     0     0  0.240526       2   \n",
       "2613642   287975       16545    120     0     0     0  0.214442       4   \n",
       "1095126    29275        3575      0     0     0     0  0.205846       1   \n",
       "3691904   325775       15266      0     0     0     0  0.199607       2   \n",
       "3710918   329564       21595    116     0     0     0  0.207172       2   \n",
       "\n",
       "             yhat  rank  \n",
       "4228760  2.213842   3.0  \n",
       "452414   2.162187   5.0  \n",
       "4452134  1.897829   1.0  \n",
       "3840241  1.988689  56.0  \n",
       "4060135  1.925801   1.0  \n",
       "...           ...   ...  \n",
       "4063323  1.921748   1.0  \n",
       "2613642  2.022863   1.0  \n",
       "1095126  2.031453   8.0  \n",
       "3691904  1.836236   1.0  \n",
       "3710918  2.008740   1.0  \n",
       "\n",
       "[477968 rows x 10 columns]"
      ]
     },
     "execution_count": 27,
     "metadata": {},
     "output_type": "execute_result"
    }
   ],
   "source": [
    "test"
   ]
  },
  {
   "cell_type": "markdown",
   "id": "e29e7e66",
   "metadata": {
    "papermill": {
     "duration": 0.016744,
     "end_time": "2023-06-29T10:23:40.920138",
     "exception": false,
     "start_time": "2023-06-29T10:23:40.903394",
     "status": "completed"
    },
    "tags": []
   },
   "source": [
    "# Evaluation"
   ]
  },
  {
   "cell_type": "code",
   "execution_count": 28,
   "id": "0d684ed1",
   "metadata": {
    "execution": {
     "iopub.execute_input": "2023-06-29T10:23:40.955825Z",
     "iopub.status.busy": "2023-06-29T10:23:40.955506Z",
     "iopub.status.idle": "2023-06-29T10:23:54.514259Z",
     "shell.execute_reply": "2023-06-29T10:23:54.512815Z"
    },
    "papermill": {
     "duration": 13.580918,
     "end_time": "2023-06-29T10:23:54.518025",
     "exception": false,
     "start_time": "2023-06-29T10:23:40.937107",
     "status": "completed"
    },
    "tags": []
   },
   "outputs": [],
   "source": [
    "test.sort_values('yhat', ascending=False, inplace=True)\n",
    "test_eval = test.groupby('user_id').agg(list_product=('product_id', list), rating=('rating', list), yhat=('yhat', list))\n"
   ]
  },
  {
   "cell_type": "code",
   "execution_count": 29,
   "id": "d0075e42",
   "metadata": {
    "execution": {
     "iopub.execute_input": "2023-06-29T10:23:54.584993Z",
     "iopub.status.busy": "2023-06-29T10:23:54.584504Z",
     "iopub.status.idle": "2023-06-29T10:23:59.069403Z",
     "shell.execute_reply": "2023-06-29T10:23:59.068374Z"
    },
    "papermill": {
     "duration": 4.527563,
     "end_time": "2023-06-29T10:23:59.071800",
     "exception": false,
     "start_time": "2023-06-29T10:23:54.544237",
     "status": "completed"
    },
    "tags": []
   },
   "outputs": [],
   "source": [
    "# Let's see if we change the threshold of which ratings define whether users will click or not\n",
    "threshold_rating = [2,3,4]\n",
    "\n",
    "for threshold in threshold_rating:\n",
    "    test_eval[f'reciprocal_rank_@{threshold}'] = test_eval['rating'].apply(lambda x: 1/(np.where(np.array(x)>=threshold)[0][0] + 1) if len(np.where(np.array(x)>=threshold)[0])>0 else None)"
   ]
  },
  {
   "cell_type": "code",
   "execution_count": 30,
   "id": "537c4fff",
   "metadata": {
    "execution": {
     "iopub.execute_input": "2023-06-29T10:23:59.108309Z",
     "iopub.status.busy": "2023-06-29T10:23:59.107981Z",
     "iopub.status.idle": "2023-06-29T10:23:59.171168Z",
     "shell.execute_reply": "2023-06-29T10:23:59.170136Z"
    },
    "papermill": {
     "duration": 0.083707,
     "end_time": "2023-06-29T10:23:59.173623",
     "exception": false,
     "start_time": "2023-06-29T10:23:59.089916",
     "status": "completed"
    },
    "tags": []
   },
   "outputs": [
    {
     "data": {
      "text/html": [
       "<div>\n",
       "<style scoped>\n",
       "    .dataframe tbody tr th:only-of-type {\n",
       "        vertical-align: middle;\n",
       "    }\n",
       "\n",
       "    .dataframe tbody tr th {\n",
       "        vertical-align: top;\n",
       "    }\n",
       "\n",
       "    .dataframe thead th {\n",
       "        text-align: right;\n",
       "    }\n",
       "</style>\n",
       "<table border=\"1\" class=\"dataframe\">\n",
       "  <thead>\n",
       "    <tr style=\"text-align: right;\">\n",
       "      <th></th>\n",
       "      <th>list_product</th>\n",
       "      <th>rating</th>\n",
       "      <th>yhat</th>\n",
       "      <th>reciprocal_rank_@2</th>\n",
       "      <th>reciprocal_rank_@3</th>\n",
       "      <th>reciprocal_rank_@4</th>\n",
       "    </tr>\n",
       "    <tr>\n",
       "      <th>user_id</th>\n",
       "      <th></th>\n",
       "      <th></th>\n",
       "      <th></th>\n",
       "      <th></th>\n",
       "      <th></th>\n",
       "      <th></th>\n",
       "    </tr>\n",
       "  </thead>\n",
       "  <tbody>\n",
       "    <tr>\n",
       "      <th>0</th>\n",
       "      <td>[306]</td>\n",
       "      <td>[2]</td>\n",
       "      <td>[1.8558580875396729]</td>\n",
       "      <td>1.0</td>\n",
       "      <td>NaN</td>\n",
       "      <td>NaN</td>\n",
       "    </tr>\n",
       "    <tr>\n",
       "      <th>1</th>\n",
       "      <td>[19372, 41191, 8233, 8195, 8178]</td>\n",
       "      <td>[2, 2, 2, 2, 2]</td>\n",
       "      <td>[2.1354024410247803, 2.0649988651275635, 2.024...</td>\n",
       "      <td>1.0</td>\n",
       "      <td>NaN</td>\n",
       "      <td>NaN</td>\n",
       "    </tr>\n",
       "    <tr>\n",
       "      <th>2</th>\n",
       "      <td>[1634, 10508, 112, 1294]</td>\n",
       "      <td>[3, 3, 3, 3]</td>\n",
       "      <td>[2.0296213626861572, 2.0259299278259277, 1.978...</td>\n",
       "      <td>1.0</td>\n",
       "      <td>1.000000</td>\n",
       "      <td>NaN</td>\n",
       "    </tr>\n",
       "    <tr>\n",
       "      <th>6</th>\n",
       "      <td>[18143, 40554, 38370, 7701, 18561]</td>\n",
       "      <td>[4, 1, 2, 1, 4]</td>\n",
       "      <td>[2.0868678092956543, 2.068692445755005, 2.0587...</td>\n",
       "      <td>1.0</td>\n",
       "      <td>1.000000</td>\n",
       "      <td>1.000000</td>\n",
       "    </tr>\n",
       "    <tr>\n",
       "      <th>7</th>\n",
       "      <td>[12272]</td>\n",
       "      <td>[4]</td>\n",
       "      <td>[1.953586220741272]</td>\n",
       "      <td>1.0</td>\n",
       "      <td>1.000000</td>\n",
       "      <td>1.000000</td>\n",
       "    </tr>\n",
       "    <tr>\n",
       "      <th>8</th>\n",
       "      <td>[21645, 36095, 38368, 38367, 41647, 28490, 430...</td>\n",
       "      <td>[1, 2, 1, 1, 2, 4, 3, 2, 1]</td>\n",
       "      <td>[2.2180440425872803, 2.2013332843780518, 2.191...</td>\n",
       "      <td>0.5</td>\n",
       "      <td>0.166667</td>\n",
       "      <td>0.166667</td>\n",
       "    </tr>\n",
       "    <tr>\n",
       "      <th>12</th>\n",
       "      <td>[18143, 41110]</td>\n",
       "      <td>[3, 2]</td>\n",
       "      <td>[1.9376301765441895, 1.9158635139465332]</td>\n",
       "      <td>1.0</td>\n",
       "      <td>1.000000</td>\n",
       "      <td>NaN</td>\n",
       "    </tr>\n",
       "    <tr>\n",
       "      <th>15</th>\n",
       "      <td>[13215, 33614]</td>\n",
       "      <td>[3, 2]</td>\n",
       "      <td>[2.1046547889709473, 2.101032257080078]</td>\n",
       "      <td>1.0</td>\n",
       "      <td>1.000000</td>\n",
       "      <td>NaN</td>\n",
       "    </tr>\n",
       "    <tr>\n",
       "      <th>16</th>\n",
       "      <td>[9974]</td>\n",
       "      <td>[2]</td>\n",
       "      <td>[1.8528717756271362]</td>\n",
       "      <td>1.0</td>\n",
       "      <td>NaN</td>\n",
       "      <td>NaN</td>\n",
       "    </tr>\n",
       "    <tr>\n",
       "      <th>17</th>\n",
       "      <td>[24574]</td>\n",
       "      <td>[2]</td>\n",
       "      <td>[1.9447020292282104]</td>\n",
       "      <td>1.0</td>\n",
       "      <td>NaN</td>\n",
       "      <td>NaN</td>\n",
       "    </tr>\n",
       "    <tr>\n",
       "      <th>19</th>\n",
       "      <td>[27244, 6008]</td>\n",
       "      <td>[4, 1]</td>\n",
       "      <td>[2.0879318714141846, 2.0391664505004883]</td>\n",
       "      <td>1.0</td>\n",
       "      <td>1.000000</td>\n",
       "      <td>1.000000</td>\n",
       "    </tr>\n",
       "    <tr>\n",
       "      <th>21</th>\n",
       "      <td>[32150]</td>\n",
       "      <td>[2]</td>\n",
       "      <td>[1.7942748069763184]</td>\n",
       "      <td>1.0</td>\n",
       "      <td>NaN</td>\n",
       "      <td>NaN</td>\n",
       "    </tr>\n",
       "    <tr>\n",
       "      <th>23</th>\n",
       "      <td>[2738, 30037, 37840, 17348, 10742, 16235, 1624...</td>\n",
       "      <td>[2, 1, 2, 4, 4, 3, 3, 3]</td>\n",
       "      <td>[2.1665523052215576, 2.1618480682373047, 2.121...</td>\n",
       "      <td>1.0</td>\n",
       "      <td>0.250000</td>\n",
       "      <td>0.250000</td>\n",
       "    </tr>\n",
       "    <tr>\n",
       "      <th>25</th>\n",
       "      <td>[11621, 42072, 18232, 19001, 10669, 10856, 771...</td>\n",
       "      <td>[2, 2, 2, 2, 3, 2, 2, 1, 2, 2, 1, 1]</td>\n",
       "      <td>[2.1087234020233154, 2.094802141189575, 2.0842...</td>\n",
       "      <td>1.0</td>\n",
       "      <td>0.200000</td>\n",
       "      <td>NaN</td>\n",
       "    </tr>\n",
       "    <tr>\n",
       "      <th>26</th>\n",
       "      <td>[40687, 8139]</td>\n",
       "      <td>[2, 2]</td>\n",
       "      <td>[2.0120835304260254, 1.9449453353881836]</td>\n",
       "      <td>1.0</td>\n",
       "      <td>NaN</td>\n",
       "      <td>NaN</td>\n",
       "    </tr>\n",
       "    <tr>\n",
       "      <th>31</th>\n",
       "      <td>[25309, 32620]</td>\n",
       "      <td>[1, 1]</td>\n",
       "      <td>[1.9900298118591309, 1.9783501625061035]</td>\n",
       "      <td>NaN</td>\n",
       "      <td>NaN</td>\n",
       "      <td>NaN</td>\n",
       "    </tr>\n",
       "    <tr>\n",
       "      <th>35</th>\n",
       "      <td>[5907, 6926, 9158, 2693, 2647, 28348, 10935, 5...</td>\n",
       "      <td>[2, 1, 2, 2, 4, 4, 1, 1, 1, 1, 2, 2]</td>\n",
       "      <td>[2.1223838329315186, 2.121962070465088, 2.1125...</td>\n",
       "      <td>1.0</td>\n",
       "      <td>0.200000</td>\n",
       "      <td>0.200000</td>\n",
       "    </tr>\n",
       "    <tr>\n",
       "      <th>42</th>\n",
       "      <td>[6621, 37759, 626, 12551, 29310, 40869, 17704,...</td>\n",
       "      <td>[2, 2, 3, 1, 2, 3, 2, 1, 1, 1, 1, 1, 3, 1, 2, ...</td>\n",
       "      <td>[2.2162578105926514, 2.1999847888946533, 2.195...</td>\n",
       "      <td>1.0</td>\n",
       "      <td>0.333333</td>\n",
       "      <td>NaN</td>\n",
       "    </tr>\n",
       "    <tr>\n",
       "      <th>45</th>\n",
       "      <td>[17706, 21633, 14783, 14577, 2254, 8080, 11393...</td>\n",
       "      <td>[1, 2, 2, 2, 3, 2, 2, 3]</td>\n",
       "      <td>[2.17659068107605, 2.160404920578003, 2.153271...</td>\n",
       "      <td>0.5</td>\n",
       "      <td>0.200000</td>\n",
       "      <td>NaN</td>\n",
       "    </tr>\n",
       "    <tr>\n",
       "      <th>48</th>\n",
       "      <td>[27267]</td>\n",
       "      <td>[2]</td>\n",
       "      <td>[2.0076043605804443]</td>\n",
       "      <td>1.0</td>\n",
       "      <td>NaN</td>\n",
       "      <td>NaN</td>\n",
       "    </tr>\n",
       "    <tr>\n",
       "      <th>51</th>\n",
       "      <td>[22547]</td>\n",
       "      <td>[2]</td>\n",
       "      <td>[1.9142169952392578]</td>\n",
       "      <td>1.0</td>\n",
       "      <td>NaN</td>\n",
       "      <td>NaN</td>\n",
       "    </tr>\n",
       "    <tr>\n",
       "      <th>52</th>\n",
       "      <td>[29986, 17896, 17870, 28020, 20838, 8317, 2633...</td>\n",
       "      <td>[1, 3, 1, 1, 1, 1, 1, 1, 1, 1, 1, 1, 1, 1, 1, ...</td>\n",
       "      <td>[2.0144429206848145, 1.9954071044921875, 1.994...</td>\n",
       "      <td>0.5</td>\n",
       "      <td>0.500000</td>\n",
       "      <td>NaN</td>\n",
       "    </tr>\n",
       "    <tr>\n",
       "      <th>53</th>\n",
       "      <td>[18144]</td>\n",
       "      <td>[2]</td>\n",
       "      <td>[1.852523684501648]</td>\n",
       "      <td>1.0</td>\n",
       "      <td>NaN</td>\n",
       "      <td>NaN</td>\n",
       "    </tr>\n",
       "    <tr>\n",
       "      <th>54</th>\n",
       "      <td>[16684, 2164, 11787, 1891, 41117]</td>\n",
       "      <td>[4, 4, 4, 4, 2]</td>\n",
       "      <td>[2.1430633068084717, 2.142155647277832, 2.1363...</td>\n",
       "      <td>1.0</td>\n",
       "      <td>1.000000</td>\n",
       "      <td>1.000000</td>\n",
       "    </tr>\n",
       "    <tr>\n",
       "      <th>56</th>\n",
       "      <td>[10855]</td>\n",
       "      <td>[4]</td>\n",
       "      <td>[1.980994462966919]</td>\n",
       "      <td>1.0</td>\n",
       "      <td>1.000000</td>\n",
       "      <td>1.000000</td>\n",
       "    </tr>\n",
       "    <tr>\n",
       "      <th>58</th>\n",
       "      <td>[28283]</td>\n",
       "      <td>[2]</td>\n",
       "      <td>[1.7748377323150635]</td>\n",
       "      <td>1.0</td>\n",
       "      <td>NaN</td>\n",
       "      <td>NaN</td>\n",
       "    </tr>\n",
       "    <tr>\n",
       "      <th>60</th>\n",
       "      <td>[30657]</td>\n",
       "      <td>[2]</td>\n",
       "      <td>[1.9624743461608887]</td>\n",
       "      <td>1.0</td>\n",
       "      <td>NaN</td>\n",
       "      <td>NaN</td>\n",
       "    </tr>\n",
       "    <tr>\n",
       "      <th>63</th>\n",
       "      <td>[22419, 19710, 274, 20502, 15791, 26470, 17609...</td>\n",
       "      <td>[2, 1, 2, 4, 2, 2, 4, 4, 1]</td>\n",
       "      <td>[2.2297651767730713, 2.2163431644439697, 2.209...</td>\n",
       "      <td>1.0</td>\n",
       "      <td>0.250000</td>\n",
       "      <td>0.250000</td>\n",
       "    </tr>\n",
       "    <tr>\n",
       "      <th>66</th>\n",
       "      <td>[25495, 7492, 10801, 19369, 1661, 16524, 15101...</td>\n",
       "      <td>[3, 3, 3, 2, 2, 2, 1, 2, 2]</td>\n",
       "      <td>[2.164324998855591, 2.142698049545288, 2.13772...</td>\n",
       "      <td>1.0</td>\n",
       "      <td>1.000000</td>\n",
       "      <td>NaN</td>\n",
       "    </tr>\n",
       "    <tr>\n",
       "      <th>67</th>\n",
       "      <td>[39027]</td>\n",
       "      <td>[2]</td>\n",
       "      <td>[1.9935768842697144]</td>\n",
       "      <td>1.0</td>\n",
       "      <td>NaN</td>\n",
       "      <td>NaN</td>\n",
       "    </tr>\n",
       "  </tbody>\n",
       "</table>\n",
       "</div>"
      ],
      "text/plain": [
       "                                              list_product  \\\n",
       "user_id                                                      \n",
       "0                                                    [306]   \n",
       "1                         [19372, 41191, 8233, 8195, 8178]   \n",
       "2                                 [1634, 10508, 112, 1294]   \n",
       "6                       [18143, 40554, 38370, 7701, 18561]   \n",
       "7                                                  [12272]   \n",
       "8        [21645, 36095, 38368, 38367, 41647, 28490, 430...   \n",
       "12                                          [18143, 41110]   \n",
       "15                                          [13215, 33614]   \n",
       "16                                                  [9974]   \n",
       "17                                                 [24574]   \n",
       "19                                           [27244, 6008]   \n",
       "21                                                 [32150]   \n",
       "23       [2738, 30037, 37840, 17348, 10742, 16235, 1624...   \n",
       "25       [11621, 42072, 18232, 19001, 10669, 10856, 771...   \n",
       "26                                           [40687, 8139]   \n",
       "31                                          [25309, 32620]   \n",
       "35       [5907, 6926, 9158, 2693, 2647, 28348, 10935, 5...   \n",
       "42       [6621, 37759, 626, 12551, 29310, 40869, 17704,...   \n",
       "45       [17706, 21633, 14783, 14577, 2254, 8080, 11393...   \n",
       "48                                                 [27267]   \n",
       "51                                                 [22547]   \n",
       "52       [29986, 17896, 17870, 28020, 20838, 8317, 2633...   \n",
       "53                                                 [18144]   \n",
       "54                       [16684, 2164, 11787, 1891, 41117]   \n",
       "56                                                 [10855]   \n",
       "58                                                 [28283]   \n",
       "60                                                 [30657]   \n",
       "63       [22419, 19710, 274, 20502, 15791, 26470, 17609...   \n",
       "66       [25495, 7492, 10801, 19369, 1661, 16524, 15101...   \n",
       "67                                                 [39027]   \n",
       "\n",
       "                                                    rating  \\\n",
       "user_id                                                      \n",
       "0                                                      [2]   \n",
       "1                                          [2, 2, 2, 2, 2]   \n",
       "2                                             [3, 3, 3, 3]   \n",
       "6                                          [4, 1, 2, 1, 4]   \n",
       "7                                                      [4]   \n",
       "8                              [1, 2, 1, 1, 2, 4, 3, 2, 1]   \n",
       "12                                                  [3, 2]   \n",
       "15                                                  [3, 2]   \n",
       "16                                                     [2]   \n",
       "17                                                     [2]   \n",
       "19                                                  [4, 1]   \n",
       "21                                                     [2]   \n",
       "23                                [2, 1, 2, 4, 4, 3, 3, 3]   \n",
       "25                    [2, 2, 2, 2, 3, 2, 2, 1, 2, 2, 1, 1]   \n",
       "26                                                  [2, 2]   \n",
       "31                                                  [1, 1]   \n",
       "35                    [2, 1, 2, 2, 4, 4, 1, 1, 1, 1, 2, 2]   \n",
       "42       [2, 2, 3, 1, 2, 3, 2, 1, 1, 1, 1, 1, 3, 1, 2, ...   \n",
       "45                                [1, 2, 2, 2, 3, 2, 2, 3]   \n",
       "48                                                     [2]   \n",
       "51                                                     [2]   \n",
       "52       [1, 3, 1, 1, 1, 1, 1, 1, 1, 1, 1, 1, 1, 1, 1, ...   \n",
       "53                                                     [2]   \n",
       "54                                         [4, 4, 4, 4, 2]   \n",
       "56                                                     [4]   \n",
       "58                                                     [2]   \n",
       "60                                                     [2]   \n",
       "63                             [2, 1, 2, 4, 2, 2, 4, 4, 1]   \n",
       "66                             [3, 3, 3, 2, 2, 2, 1, 2, 2]   \n",
       "67                                                     [2]   \n",
       "\n",
       "                                                      yhat  \\\n",
       "user_id                                                      \n",
       "0                                     [1.8558580875396729]   \n",
       "1        [2.1354024410247803, 2.0649988651275635, 2.024...   \n",
       "2        [2.0296213626861572, 2.0259299278259277, 1.978...   \n",
       "6        [2.0868678092956543, 2.068692445755005, 2.0587...   \n",
       "7                                      [1.953586220741272]   \n",
       "8        [2.2180440425872803, 2.2013332843780518, 2.191...   \n",
       "12                [1.9376301765441895, 1.9158635139465332]   \n",
       "15                 [2.1046547889709473, 2.101032257080078]   \n",
       "16                                    [1.8528717756271362]   \n",
       "17                                    [1.9447020292282104]   \n",
       "19                [2.0879318714141846, 2.0391664505004883]   \n",
       "21                                    [1.7942748069763184]   \n",
       "23       [2.1665523052215576, 2.1618480682373047, 2.121...   \n",
       "25       [2.1087234020233154, 2.094802141189575, 2.0842...   \n",
       "26                [2.0120835304260254, 1.9449453353881836]   \n",
       "31                [1.9900298118591309, 1.9783501625061035]   \n",
       "35       [2.1223838329315186, 2.121962070465088, 2.1125...   \n",
       "42       [2.2162578105926514, 2.1999847888946533, 2.195...   \n",
       "45       [2.17659068107605, 2.160404920578003, 2.153271...   \n",
       "48                                    [2.0076043605804443]   \n",
       "51                                    [1.9142169952392578]   \n",
       "52       [2.0144429206848145, 1.9954071044921875, 1.994...   \n",
       "53                                     [1.852523684501648]   \n",
       "54       [2.1430633068084717, 2.142155647277832, 2.1363...   \n",
       "56                                     [1.980994462966919]   \n",
       "58                                    [1.7748377323150635]   \n",
       "60                                    [1.9624743461608887]   \n",
       "63       [2.2297651767730713, 2.2163431644439697, 2.209...   \n",
       "66       [2.164324998855591, 2.142698049545288, 2.13772...   \n",
       "67                                    [1.9935768842697144]   \n",
       "\n",
       "         reciprocal_rank_@2  reciprocal_rank_@3  reciprocal_rank_@4  \n",
       "user_id                                                              \n",
       "0                       1.0                 NaN                 NaN  \n",
       "1                       1.0                 NaN                 NaN  \n",
       "2                       1.0            1.000000                 NaN  \n",
       "6                       1.0            1.000000            1.000000  \n",
       "7                       1.0            1.000000            1.000000  \n",
       "8                       0.5            0.166667            0.166667  \n",
       "12                      1.0            1.000000                 NaN  \n",
       "15                      1.0            1.000000                 NaN  \n",
       "16                      1.0                 NaN                 NaN  \n",
       "17                      1.0                 NaN                 NaN  \n",
       "19                      1.0            1.000000            1.000000  \n",
       "21                      1.0                 NaN                 NaN  \n",
       "23                      1.0            0.250000            0.250000  \n",
       "25                      1.0            0.200000                 NaN  \n",
       "26                      1.0                 NaN                 NaN  \n",
       "31                      NaN                 NaN                 NaN  \n",
       "35                      1.0            0.200000            0.200000  \n",
       "42                      1.0            0.333333                 NaN  \n",
       "45                      0.5            0.200000                 NaN  \n",
       "48                      1.0                 NaN                 NaN  \n",
       "51                      1.0                 NaN                 NaN  \n",
       "52                      0.5            0.500000                 NaN  \n",
       "53                      1.0                 NaN                 NaN  \n",
       "54                      1.0            1.000000            1.000000  \n",
       "56                      1.0            1.000000            1.000000  \n",
       "58                      1.0                 NaN                 NaN  \n",
       "60                      1.0                 NaN                 NaN  \n",
       "63                      1.0            0.250000            0.250000  \n",
       "66                      1.0            1.000000                 NaN  \n",
       "67                      1.0                 NaN                 NaN  "
      ]
     },
     "execution_count": 30,
     "metadata": {},
     "output_type": "execute_result"
    }
   ],
   "source": [
    "test_eval.head(30)"
   ]
  },
  {
   "cell_type": "code",
   "execution_count": 31,
   "id": "a8b115be",
   "metadata": {
    "execution": {
     "iopub.execute_input": "2023-06-29T10:23:59.212808Z",
     "iopub.status.busy": "2023-06-29T10:23:59.211841Z",
     "iopub.status.idle": "2023-06-29T10:23:59.254697Z",
     "shell.execute_reply": "2023-06-29T10:23:59.253090Z"
    },
    "papermill": {
     "duration": 0.063963,
     "end_time": "2023-06-29T10:23:59.256836",
     "exception": false,
     "start_time": "2023-06-29T10:23:59.192873",
     "status": "completed"
    },
    "tags": []
   },
   "outputs": [
    {
     "data": {
      "text/html": [
       "<div>\n",
       "<style scoped>\n",
       "    .dataframe tbody tr th:only-of-type {\n",
       "        vertical-align: middle;\n",
       "    }\n",
       "\n",
       "    .dataframe tbody tr th {\n",
       "        vertical-align: top;\n",
       "    }\n",
       "\n",
       "    .dataframe thead th {\n",
       "        text-align: right;\n",
       "    }\n",
       "</style>\n",
       "<table border=\"1\" class=\"dataframe\">\n",
       "  <thead>\n",
       "    <tr style=\"text-align: right;\">\n",
       "      <th></th>\n",
       "      <th>reciprocal_rank_@2</th>\n",
       "      <th>reciprocal_rank_@3</th>\n",
       "      <th>reciprocal_rank_@4</th>\n",
       "    </tr>\n",
       "  </thead>\n",
       "  <tbody>\n",
       "    <tr>\n",
       "      <th>count</th>\n",
       "      <td>144039.000000</td>\n",
       "      <td>49049.000000</td>\n",
       "      <td>21388.000000</td>\n",
       "    </tr>\n",
       "    <tr>\n",
       "      <th>mean</th>\n",
       "      <td>0.962246</td>\n",
       "      <td>0.806582</td>\n",
       "      <td>0.758919</td>\n",
       "    </tr>\n",
       "    <tr>\n",
       "      <th>std</th>\n",
       "      <td>0.145160</td>\n",
       "      <td>0.297715</td>\n",
       "      <td>0.322557</td>\n",
       "    </tr>\n",
       "    <tr>\n",
       "      <th>min</th>\n",
       "      <td>0.027027</td>\n",
       "      <td>0.011628</td>\n",
       "      <td>0.005556</td>\n",
       "    </tr>\n",
       "    <tr>\n",
       "      <th>25%</th>\n",
       "      <td>1.000000</td>\n",
       "      <td>0.500000</td>\n",
       "      <td>0.500000</td>\n",
       "    </tr>\n",
       "    <tr>\n",
       "      <th>50%</th>\n",
       "      <td>1.000000</td>\n",
       "      <td>1.000000</td>\n",
       "      <td>1.000000</td>\n",
       "    </tr>\n",
       "    <tr>\n",
       "      <th>75%</th>\n",
       "      <td>1.000000</td>\n",
       "      <td>1.000000</td>\n",
       "      <td>1.000000</td>\n",
       "    </tr>\n",
       "    <tr>\n",
       "      <th>max</th>\n",
       "      <td>1.000000</td>\n",
       "      <td>1.000000</td>\n",
       "      <td>1.000000</td>\n",
       "    </tr>\n",
       "  </tbody>\n",
       "</table>\n",
       "</div>"
      ],
      "text/plain": [
       "       reciprocal_rank_@2  reciprocal_rank_@3  reciprocal_rank_@4\n",
       "count       144039.000000        49049.000000        21388.000000\n",
       "mean             0.962246            0.806582            0.758919\n",
       "std              0.145160            0.297715            0.322557\n",
       "min              0.027027            0.011628            0.005556\n",
       "25%              1.000000            0.500000            0.500000\n",
       "50%              1.000000            1.000000            1.000000\n",
       "75%              1.000000            1.000000            1.000000\n",
       "max              1.000000            1.000000            1.000000"
      ]
     },
     "execution_count": 31,
     "metadata": {},
     "output_type": "execute_result"
    }
   ],
   "source": [
    "test_eval.describe()"
   ]
  },
  {
   "cell_type": "code",
   "execution_count": 32,
   "id": "4a9b5fea",
   "metadata": {
    "execution": {
     "iopub.execute_input": "2023-06-29T10:23:59.295422Z",
     "iopub.status.busy": "2023-06-29T10:23:59.294585Z",
     "iopub.status.idle": "2023-06-29T10:24:00.322237Z",
     "shell.execute_reply": "2023-06-29T10:24:00.321313Z"
    },
    "papermill": {
     "duration": 1.048907,
     "end_time": "2023-06-29T10:24:00.324562",
     "exception": false,
     "start_time": "2023-06-29T10:23:59.275655",
     "status": "completed"
    },
    "tags": []
   },
   "outputs": [
    {
     "data": {
      "text/plain": [
       "array([[<Axes: title={'center': 'reciprocal_rank_@2'}>,\n",
       "        <Axes: title={'center': 'reciprocal_rank_@3'}>],\n",
       "       [<Axes: title={'center': 'reciprocal_rank_@4'}>, <Axes: >]],\n",
       "      dtype=object)"
      ]
     },
     "execution_count": 32,
     "metadata": {},
     "output_type": "execute_result"
    },
    {
     "data": {
      "image/png": "[encoded data removed]",
      "text/plain": [
       "<Figure size 640x480 with 4 Axes>"
      ]
     },
     "metadata": {},
     "output_type": "display_data"
    }
   ],
   "source": [
    "test_eval.hist()"
   ]
  },
  {
   "cell_type": "code",
   "execution_count": null,
   "id": "a11c09eb",
   "metadata": {
    "papermill": {
     "duration": 0.018148,
     "end_time": "2023-06-29T10:24:00.361042",
     "exception": false,
     "start_time": "2023-06-29T10:24:00.342894",
     "status": "completed"
    },
    "tags": []
   },
   "outputs": [],
   "source": []
  }
 ],
 "metadata": {
  "kernelspec": {
   "display_name": "Python 3",
   "language": "python",
   "name": "python3"
  },
  "language_info": {
   "codemirror_mode": {
    "name": "ipython",
    "version": 3
   },
   "file_extension": ".py",
   "mimetype": "text/x-python",
   "name": "python",
   "nbconvert_exporter": "python",
   "pygments_lexer": "ipython3",
   "version": "3.10.10"
  },
  "papermill": {
   "default_parameters": {},
   "duration": 151.808069,
   "end_time": "2023-06-29T10:24:03.493150",
   "environment_variables": {},
   "exception": null,
   "input_path": "__notebook__.ipynb",
   "output_path": "__notebook__.ipynb",
   "parameters": {},
   "start_time": "2023-06-29T10:21:31.685081",
   "version": "2.4.0"
  }
 },
 "nbformat": 4,
 "nbformat_minor": 5
}
